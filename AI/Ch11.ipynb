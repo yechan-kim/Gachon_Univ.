{
  "cells": [
    {
      "cell_type": "markdown",
      "metadata": {
        "id": "6b--VkdzPHWB"
      },
      "source": [
        "# 2. 텍스트 데이터 준비"
      ]
    },
    {
      "cell_type": "markdown",
      "metadata": {
        "id": "vThLgagxPHWC"
      },
      "source": [
        "### `TextVectorization` 층 사용하기"
      ]
    },
    {
      "cell_type": "code",
      "execution_count": null,
      "metadata": {},
      "outputs": [],
      "source": [
        "import string\n",
        "\n",
        "class Vectorizer:\n",
        "    def standardize(self, text):\n",
        "        text = text.lower()\n",
        "        return \"\".join(char for char in text if char not in string.punctuation)\n",
        "\n",
        "    def tokenize(self, text):\n",
        "        return text.split()\n",
        "\n",
        "    def make_vocabulary(self, dataset):\n",
        "        self.vocabulary = {\"\": 0, \"[UNK]\": 1}\n",
        "        for text in dataset:\n",
        "            text = self.standardize(text)\n",
        "            tokens = self.tokenize(text)\n",
        "            for token in tokens:\n",
        "                if token not in self.vocabulary:\n",
        "                    self.vocabulary[token] = len(self.vocabulary)\n",
        "        self.inverse_vocabulary = dict(\n",
        "            (v, k) for k, v in self.vocabulary.items())\n",
        "\n",
        "    def encode(self, text):\n",
        "        text = self.standardize(text)\n",
        "        tokens = self.tokenize(text)\n",
        "        return [self.vocabulary.get(token, 1) for token in tokens]\n",
        "\n",
        "    def decode(self, int_sequence):\n",
        "        return \" \".join(\n",
        "            self.inverse_vocabulary.get(i, \"[UNK]\") for i in int_sequence)\n",
        "\n",
        "vectorizer = Vectorizer()\n",
        "dataset = [\n",
        "    \"I write, erase, rewrite\",\n",
        "    \"Erase again, and then\",\n",
        "    \"A poppy blooms.\",\n",
        "]\n",
        "vectorizer.make_vocabulary(dataset)"
      ]
    },
    {
      "cell_type": "code",
      "execution_count": null,
      "metadata": {},
      "outputs": [
        {
          "name": "stdout",
          "output_type": "stream",
          "text": [
            "[2, 3, 5, 7, 1, 5, 6]\n"
          ]
        }
      ],
      "source": [
        "test_sentence = \"I write, rewrite, and still rewrite again\"\n",
        "encoded_sentence = vectorizer.encode(test_sentence)\n",
        "print(encoded_sentence)"
      ]
    },
    {
      "cell_type": "code",
      "execution_count": null,
      "metadata": {},
      "outputs": [
        {
          "name": "stdout",
          "output_type": "stream",
          "text": [
            "i write rewrite and [UNK] rewrite again\n"
          ]
        }
      ],
      "source": [
        "decoded_sentence = vectorizer.decode(encoded_sentence)\n",
        "print(decoded_sentence)"
      ]
    },
    {
      "cell_type": "code",
      "execution_count": null,
      "metadata": {},
      "outputs": [],
      "source": [
        "from tensorflow.keras.layers import TextVectorization\n",
        "text_vectorization = TextVectorization(\n",
        "\t\t## 정수 인덱스로 인코딩된 단어 시퀀스를 반환하도록 층을 설정\n",
        "\t\t## 여러가지 다른 출력 모드도 있음\n",
        "\t\t## 벡터화된 텍스트는 정수 시퀀스로 표현\n",
        "    output_mode=\"int\",\n",
        ")"
      ]
    },
    {
      "cell_type": "code",
      "execution_count": 5,
      "metadata": {
        "id": "5OWCEbFEPHWF"
      },
      "outputs": [],
      "source": [
        "import re\n",
        "import string\n",
        "import tensorflow as tf\n",
        "\n",
        "def custom_standardization_fn(string_tensor):\n",
        "    lowercase_string = tf.strings.lower(string_tensor)\n",
        "    return tf.strings.regex_replace(\n",
        "        lowercase_string, f\"[{re.escape(string.punctuation)}]\", \"\")\n",
        "\n",
        "def custom_split_fn(string_tensor):\n",
        "    return tf.strings.split(string_tensor)\n",
        "\n",
        "text_vectorization = TextVectorization(\n",
        "    output_mode=\"int\",\n",
        "    standardize=custom_standardization_fn,\n",
        "    split=custom_split_fn,\n",
        ")"
      ]
    },
    {
      "cell_type": "code",
      "execution_count": 6,
      "metadata": {
        "id": "a8KKZ2aGPHWG"
      },
      "outputs": [],
      "source": [
        "dataset = [\n",
        "    \"I write, erase, rewrite\",\n",
        "    \"Erase again, and then\",\n",
        "    \"A poppy blooms.\",\n",
        "]\n",
        "text_vectorization.adapt(dataset)"
      ]
    },
    {
      "cell_type": "markdown",
      "metadata": {
        "id": "ivDt8LVRPHWG"
      },
      "source": [
        "**어휘 사전 출력하기**"
      ]
    },
    {
      "cell_type": "code",
      "execution_count": 7,
      "metadata": {
        "colab": {
          "base_uri": "https://localhost:8080/"
        },
        "id": "6piMhRMEPHWG",
        "outputId": "0bd7e483-df54-47e6-870b-3c870b39164b"
      },
      "outputs": [
        {
          "data": {
            "text/plain": [
              "['',\n",
              " '[UNK]',\n",
              " 'erase',\n",
              " 'write',\n",
              " 'then',\n",
              " 'rewrite',\n",
              " 'poppy',\n",
              " 'i',\n",
              " 'blooms',\n",
              " 'and',\n",
              " 'again',\n",
              " 'a']"
            ]
          },
          "execution_count": 7,
          "metadata": {},
          "output_type": "execute_result"
        }
      ],
      "source": [
        "text_vectorization.get_vocabulary()"
      ]
    },
    {
      "cell_type": "code",
      "execution_count": 8,
      "metadata": {
        "colab": {
          "base_uri": "https://localhost:8080/"
        },
        "id": "ZQj8w725PHWG",
        "outputId": "4c949fb5-22ee-42b6-bdd7-c4b5f14575b1"
      },
      "outputs": [
        {
          "name": "stdout",
          "output_type": "stream",
          "text": [
            "tf.Tensor([ 7  3  5  9  1  5 10], shape=(7,), dtype=int64)\n"
          ]
        }
      ],
      "source": [
        "vocabulary = text_vectorization.get_vocabulary()\n",
        "test_sentence = \"I write, rewrite, and still rewrite again\"\n",
        "encoded_sentence = text_vectorization(test_sentence)\n",
        "print(encoded_sentence)"
      ]
    },
    {
      "cell_type": "code",
      "execution_count": 9,
      "metadata": {
        "colab": {
          "base_uri": "https://localhost:8080/"
        },
        "id": "2ACo5XXcPHWG",
        "outputId": "1172623e-1b42-4db0-db65-0d751cfce9fd"
      },
      "outputs": [
        {
          "name": "stdout",
          "output_type": "stream",
          "text": [
            "i write rewrite and [UNK] rewrite again\n"
          ]
        }
      ],
      "source": [
        "inverse_vocab = dict(enumerate(vocabulary))\n",
        "decoded_sentence = \" \".join(inverse_vocab[int(i)] for i in encoded_sentence)\n",
        "print(decoded_sentence)"
      ]
    },
    {
      "cell_type": "markdown",
      "metadata": {
        "id": "VjnG_PtiPHWH"
      },
      "source": [
        "# 3. 단어 그룹을 표현하는 두 가지 방법: 집합과 시퀀스"
      ]
    },
    {
      "cell_type": "markdown",
      "metadata": {
        "id": "KFQeM-FUPHWH"
      },
      "source": [
        "### IMDB 영화 리뷰 데이터 준비하기"
      ]
    },
    {
      "cell_type": "code",
      "execution_count": 10,
      "metadata": {
        "colab": {
          "base_uri": "https://localhost:8080/"
        },
        "id": "JHC5wgjxPHWH",
        "outputId": "2f6a0e90-55c2-4e1b-be3f-277ef5646d99"
      },
      "outputs": [
        {
          "name": "stdout",
          "output_type": "stream",
          "text": [
            "  % Total    % Received % Xferd  Average Speed   Time    Time     Time  Current\n",
            "                                 Dload  Upload   Total   Spent    Left  Speed\n",
            "100 80.2M  100 80.2M    0     0  29.6M      0  0:00:02  0:00:02 --:--:-- 29.6M\n"
          ]
        }
      ],
      "source": [
        "%curl -O https://ai.stanford.edu/~amaas/data/sentiment/aclImdb_v1.tar.gz\n",
        "%tar -xf aclImdb_v1.tar.gz"
      ]
    },
    {
      "cell_type": "code",
      "execution_count": 12,
      "metadata": {
        "colab": {
          "base_uri": "https://localhost:8080/"
        },
        "id": "pPt42d2WPHWH",
        "outputId": "11af3218-2571-407e-9765-96ba1b8b0d42"
      },
      "outputs": [
        {
          "name": "stdout",
          "output_type": "stream",
          "text": [
            "I first saw this back in the early 90s on UK TV, i did like it then but i missed the chance to tape it, many years passed but the film always stuck with me and i lost hope of seeing it TV again, the main thing that stuck with me was the end, the hole castle part really touched me, its easy to watch, has a great story, great music, the list goes on and on, its OK me saying how good it is but everyone will take there own best bits away with them once they have seen it, yes the animation is top notch and beautiful to watch, it does show its age in a very few parts but that has now become part of it beauty, i am so glad it has came out on DVD as it is one of my top 10 films of all time. Buy it or rent it just see it, best viewing is at night alone with drink and food in reach so you don't have to stop the film.<br /><br />Enjoy"
          ]
        }
      ],
      "source": [
        "%cat aclImdb/train/pos/4077_10.txt"
      ]
    },
    {
      "cell_type": "code",
      "execution_count": 13,
      "metadata": {
        "id": "VqMxuzj8PHWI"
      },
      "outputs": [],
      "source": [
        "import os, pathlib, shutil, random\n",
        "\n",
        "base_dir = pathlib.Path(\"aclImdb\")\n",
        "val_dir = base_dir / \"val\"\n",
        "train_dir = base_dir / \"train\"\n",
        "for category in (\"neg\", \"pos\"):\n",
        "    os.makedirs(val_dir / category)\n",
        "    files = os.listdir(train_dir / category)\n",
        "    ## 코드를 여러 번 실행해도 동일한 검증 세트가 만들어지도록 랜덤 시드를 지정하여 훈련 파일 목록을 섞음\n",
        "    random.Random(1337).shuffle(files)\n",
        "    ## 훈련 파일 중 20%를 검증 세트로 덜어 냄\n",
        "    num_val_samples = int(0.2 * len(files))\n",
        "    val_files = files[-num_val_samples:]\n",
        "    ## 파일을 aclImdb/val/neg와 aclImdb/val/pos로 옮김\n",
        "    for fname in val_files:\n",
        "        shutil.move(train_dir / category / fname,\n",
        "                    val_dir / category / fname)"
      ]
    },
    {
      "cell_type": "code",
      "execution_count": 14,
      "metadata": {
        "colab": {
          "base_uri": "https://localhost:8080/"
        },
        "id": "nCA9IoOKPHWI",
        "outputId": "8645a265-4443-4496-859b-d410107838fa"
      },
      "outputs": [
        {
          "name": "stdout",
          "output_type": "stream",
          "text": [
            "Found 20000 files belonging to 2 classes.\n",
            "Found 5000 files belonging to 2 classes.\n",
            "Found 25000 files belonging to 2 classes.\n"
          ]
        }
      ],
      "source": [
        "from tensorflow import keras\n",
        "batch_size = 32\n",
        "\n",
        "## 이 라인을 실행하면 \"Found 20000 files belonging to 2 classes.\"가 출력될 것\n",
        "## 다른 문장이 출력되면 aclImdb/train/unsup 디렉터리 삭제 후 다시 실행\n",
        "train_ds = keras.utils.text_dataset_from_directory(\n",
        "    \"aclImdb/train\", batch_size=batch_size\n",
        ")\n",
        "val_ds = keras.utils.text_dataset_from_directory(\n",
        "    \"aclImdb/val\", batch_size=batch_size\n",
        ")\n",
        "test_ds = keras.utils.text_dataset_from_directory(\n",
        "    \"aclImdb/test\", batch_size=batch_size\n",
        ")"
      ]
    },
    {
      "cell_type": "markdown",
      "metadata": {
        "id": "F6IhmydcPHWI"
      },
      "source": [
        "**첫 번째 배치의 크기와 dtype 출력하기**"
      ]
    },
    {
      "cell_type": "code",
      "execution_count": 15,
      "metadata": {
        "colab": {
          "base_uri": "https://localhost:8080/"
        },
        "id": "RO58kApSPHWI",
        "outputId": "62ec02b8-dee9-4c7d-b005-a93d840c8638"
      },
      "outputs": [
        {
          "name": "stdout",
          "output_type": "stream",
          "text": [
            "inputs.shape: (32,)\n",
            "inputs.dtype: <dtype: 'string'>\n",
            "targets.shape: (32,)\n",
            "targets.dtype: <dtype: 'int32'>\n",
            "inputs[0]: tf.Tensor(b\"After you see Vertigo, then watch Bell, Book and Candle, made within months of each other.<br /><br />My second favorite Kim Novak film, with Picnic, coming in as third.<br /><br />All three performances are great, Vertigo, being the best, of all.<br /><br />They came to my nowhere Kansas Prairie town, near by, at Salina, Kansas in the 50s, to film, Picnic. <br /><br />Bell, Book and Candle's musical score, I believe is one of Alex North's. Perfect for this bit of comedy.<br /><br />After Vertigo, Stewart and Novak, did this comedy, how amusing to note the dramatic contrast.<br /><br />Worth your time, if you like Kim Novak. The Greta Garbo of my youth.\", shape=(), dtype=string)\n",
            "targets[0]: tf.Tensor(1, shape=(), dtype=int32)\n"
          ]
        }
      ],
      "source": [
        "for inputs, targets in train_ds:\n",
        "    print(\"inputs.shape:\", inputs.shape)\n",
        "    print(\"inputs.dtype:\", inputs.dtype)\n",
        "    print(\"targets.shape:\", targets.shape)\n",
        "    print(\"targets.dtype:\", targets.dtype)\n",
        "    print(\"inputs[0]:\", inputs[0])\n",
        "    print(\"targets[0]:\", targets[0])\n",
        "    break"
      ]
    },
    {
      "cell_type": "markdown",
      "metadata": {
        "id": "hRRDlnqAPHWJ"
      },
      "source": [
        "### 단어를 집합으로 처리하기: BoW 방식"
      ]
    },
    {
      "cell_type": "markdown",
      "metadata": {
        "id": "uFc9dZA5PHWJ"
      },
      "source": [
        "#### Single words (unigrams) with binary encoding"
      ]
    },
    {
      "cell_type": "markdown",
      "metadata": {
        "id": "r4_cyPXEPHWJ"
      },
      "source": [
        "**`TextVectorization` 층으로 데이터 전처리하기**"
      ]
    },
    {
      "cell_type": "code",
      "execution_count": 16,
      "metadata": {
        "id": "eOSiAiGPPHWJ"
      },
      "outputs": [],
      "source": [
        "text_vectorization = TextVectorization(\n",
        "    ## 가장 많이 등장하는 2만 개의 단어로 어휘 사전을 제한\n",
        "    ## 그렇지 않으면 훈련 데이터에 있는 모든 단어를 인덱싱하게 되어 비 효율적\n",
        "    ## 일반적으로 텍스트 분류에서 2만 개는 적절한 어휘 사전 크기\n",
        "    max_tokens=20000,\n",
        "    output_mode=\"multi_hot\", ## 멀티-핫 이진 벡터로 출력 토큰을 인코딩\n",
        ")\n",
        "## (레이블 없이) 원시 텍스트 입력만 반환하는 데이터셋을 준비\n",
        "## text_only_train_ds: text, label 쌍\n",
        "## x(text)를 반환\n",
        "text_only_train_ds = train_ds.map(lambda x, y: x) \n",
        "text_vectorization.adapt(text_only_train_ds) ## adapt()로 이 데이터셋의 어휘 사전을 인덱싱 -> 효울작인 텍스트-숫자 변환을 준비\n",
        "\n",
        "## 훈련, 검증, 테스트 데이터셋을 전처리\n",
        "## 다중 CPU코어를 활용하기 위해 num_parallel_calls 매개변수를 지정\n",
        "## text_vectorization(x): 멀티-핫 인코딩으로 변환\n",
        "## (text_vectorization(x), y): 텍스트 데이터가 변환되지만 레이블은 동일하게 유지되는 튜플을 반환\n",
        "binary_1gram_train_ds = train_ds.map(\n",
        "    lambda x, y: (text_vectorization(x), y),\n",
        "    num_parallel_calls=4)\n",
        "binary_1gram_val_ds = val_ds.map(\n",
        "    lambda x, y: (text_vectorization(x), y),\n",
        "    num_parallel_calls=4)\n",
        "binary_1gram_test_ds = test_ds.map(\n",
        "    lambda x, y: (text_vectorization(x), y),\n",
        "    num_parallel_calls=4)"
      ]
    },
    {
      "cell_type": "markdown",
      "metadata": {
        "id": "XZp__LNzPHWJ"
      },
      "source": [
        "**이진 유니그램 데이터셋의 출력 확인하기**"
      ]
    },
    {
      "cell_type": "code",
      "execution_count": 17,
      "metadata": {
        "colab": {
          "base_uri": "https://localhost:8080/"
        },
        "id": "aKTPekqmPHWJ",
        "outputId": "54e23da8-7298-4388-848f-3ecc59d4c07f"
      },
      "outputs": [
        {
          "name": "stdout",
          "output_type": "stream",
          "text": [
            "inputs.shape: (32, 20000)\n",
            "inputs.dtype: <dtype: 'float32'>\n",
            "targets.shape: (32,)\n",
            "targets.dtype: <dtype: 'int32'>\n",
            "inputs[0]: tf.Tensor([1. 1. 1. ... 0. 0. 0.], shape=(20000,), dtype=float32)\n",
            "targets[0]: tf.Tensor(1, shape=(), dtype=int32)\n"
          ]
        }
      ],
      "source": [
        "for inputs, targets in binary_1gram_train_ds:\n",
        "    print(\"inputs.shape:\", inputs.shape)\n",
        "    print(\"inputs.dtype:\", inputs.dtype)\n",
        "    print(\"targets.shape:\", targets.shape)\n",
        "    print(\"targets.dtype:\", targets.dtype)\n",
        "    print(\"inputs[0]:\", inputs[0])\n",
        "    print(\"targets[0]:\", targets[0])\n",
        "    break"
      ]
    },
    {
      "cell_type": "markdown",
      "metadata": {
        "id": "-zCVeBuAPHWJ"
      },
      "source": [
        "**모델 생성 유틸리티**"
      ]
    },
    {
      "cell_type": "code",
      "execution_count": 18,
      "metadata": {
        "id": "ODGXYjUcPHWK"
      },
      "outputs": [],
      "source": [
        "from tensorflow import keras\n",
        "from tensorflow.keras import layers\n",
        "\n",
        "def get_model(max_tokens=20000, hidden_dim=16):\n",
        "    inputs = keras.Input(shape=(max_tokens,))\n",
        "    x = layers.Dense(hidden_dim, activation=\"relu\")(inputs)\n",
        "    x = layers.Dropout(0.5)(x)\n",
        "    outputs = layers.Dense(1, activation=\"sigmoid\")(x)\n",
        "    model = keras.Model(inputs, outputs)\n",
        "    model.compile(optimizer=\"rmsprop\",\n",
        "                  loss=\"binary_crossentropy\",\n",
        "                  metrics=[\"accuracy\"])\n",
        "    return model"
      ]
    },
    {
      "cell_type": "markdown",
      "metadata": {
        "id": "R2vbysS9PHWK"
      },
      "source": [
        "**이진 유니그램 모델 훈련하고 테스트하기**"
      ]
    },
    {
      "cell_type": "code",
      "execution_count": 21,
      "metadata": {
        "colab": {
          "base_uri": "https://localhost:8080/"
        },
        "id": "Fmb0uHkyPHWK",
        "outputId": "73474e3e-8aaa-4c2e-e698-e0d570633d32"
      },
      "outputs": [
        {
          "name": "stdout",
          "output_type": "stream",
          "text": [
            "Model: \"model_2\"\n",
            "_________________________________________________________________\n",
            " Layer (type)                Output Shape              Param #   \n",
            "=================================================================\n",
            " input_3 (InputLayer)        [(None, 20000)]           0         \n",
            "                                                                 \n",
            " dense_4 (Dense)             (None, 16)                320016    \n",
            "                                                                 \n",
            " dropout_2 (Dropout)         (None, 16)                0         \n",
            "                                                                 \n",
            " dense_5 (Dense)             (None, 1)                 17        \n",
            "                                                                 \n",
            "=================================================================\n",
            "Total params: 320033 (1.22 MB)\n",
            "Trainable params: 320033 (1.22 MB)\n",
            "Non-trainable params: 0 (0.00 Byte)\n",
            "_________________________________________________________________\n",
            "Epoch 1/10\n",
            "625/625 [==============================] - 11s 14ms/step - loss: 0.4008 - accuracy: 0.8306 - val_loss: 0.2689 - val_accuracy: 0.8946\n",
            "Epoch 2/10\n",
            "625/625 [==============================] - 4s 7ms/step - loss: 0.2684 - accuracy: 0.9008 - val_loss: 0.2658 - val_accuracy: 0.8966\n",
            "Epoch 3/10\n",
            "625/625 [==============================] - 4s 6ms/step - loss: 0.2433 - accuracy: 0.9173 - val_loss: 0.2769 - val_accuracy: 0.8952\n",
            "Epoch 4/10\n",
            "625/625 [==============================] - 3s 4ms/step - loss: 0.2227 - accuracy: 0.9260 - val_loss: 0.2940 - val_accuracy: 0.8970\n",
            "Epoch 5/10\n",
            "625/625 [==============================] - 4s 6ms/step - loss: 0.2148 - accuracy: 0.9292 - val_loss: 0.3039 - val_accuracy: 0.8980\n",
            "Epoch 6/10\n",
            "625/625 [==============================] - 3s 4ms/step - loss: 0.1994 - accuracy: 0.9357 - val_loss: 0.3194 - val_accuracy: 0.8946\n",
            "Epoch 7/10\n",
            "625/625 [==============================] - 3s 4ms/step - loss: 0.1983 - accuracy: 0.9366 - val_loss: 0.3341 - val_accuracy: 0.8938\n",
            "Epoch 8/10\n",
            "625/625 [==============================] - 3s 4ms/step - loss: 0.2044 - accuracy: 0.9363 - val_loss: 0.3369 - val_accuracy: 0.8920\n",
            "Epoch 9/10\n",
            "625/625 [==============================] - 3s 5ms/step - loss: 0.1982 - accuracy: 0.9366 - val_loss: 0.3451 - val_accuracy: 0.8946\n",
            "Epoch 10/10\n",
            "625/625 [==============================] - 3s 4ms/step - loss: 0.1967 - accuracy: 0.9387 - val_loss: 0.3543 - val_accuracy: 0.8900\n",
            "782/782 [==============================] - 5s 6ms/step - loss: 0.2879 - accuracy: 0.8870\n",
            "테스트 정확도: 0.887\n"
          ]
        }
      ],
      "source": [
        "model = get_model()\n",
        "model.summary()\n",
        "callbacks = [\n",
        "    keras.callbacks.ModelCheckpoint(\"binary_1gram.h5\",\n",
        "                                    save_best_only=True)\n",
        "]\n",
        "## 데이터셋의 cache() 메서드를 호출하여 메모리에 캐싱\n",
        "## 이렇게 하면 첫 번째 에포크에서 한 번만 전처리하고 이후 에포크에서는 전처리도니 텍스트를 재사용\n",
        "## 메모리에 들어갈 만큼 작은 데이터일 때 사용할 수 있음\n",
        "model.fit(binary_1gram_train_ds.cache(),\n",
        "          validation_data=binary_1gram_val_ds.cache(),\n",
        "          epochs=10,\n",
        "          callbacks=callbacks)\n",
        "model = keras.models.load_model(\"binary_1gram.h5\")\n",
        "print(f\"테스트 정확도: {model.evaluate(binary_1gram_test_ds)[1]:.3f}\")"
      ]
    },
    {
      "cell_type": "markdown",
      "metadata": {
        "id": "tbLjMnm6PHWK"
      },
      "source": [
        "#### 이진 인코딩을 사용한 바이그램"
      ]
    },
    {
      "cell_type": "markdown",
      "metadata": {
        "id": "HqKkpvj3PHWK"
      },
      "source": [
        "**바이그램을 반환하는 `TextVectorization` 층 만들기**"
      ]
    },
    {
      "cell_type": "code",
      "execution_count": 22,
      "metadata": {
        "id": "O_xsjJvdPHWK"
      },
      "outputs": [],
      "source": [
        "text_vectorization = TextVectorization(\n",
        "    ngrams=2,\n",
        "    max_tokens=20000,\n",
        "    output_mode=\"multi_hot\",\n",
        ")"
      ]
    },
    {
      "cell_type": "markdown",
      "metadata": {
        "id": "mdWi9dhXPHWL"
      },
      "source": [
        "**이진 바이그램 모델 훈련하고 테스트하기**"
      ]
    },
    {
      "cell_type": "code",
      "execution_count": 23,
      "metadata": {
        "colab": {
          "base_uri": "https://localhost:8080/"
        },
        "id": "7hJTKCooPHWL",
        "outputId": "64cdeea2-b898-4521-fcd7-189856febcba"
      },
      "outputs": [
        {
          "name": "stdout",
          "output_type": "stream",
          "text": [
            "Model: \"model_3\"\n",
            "_________________________________________________________________\n",
            " Layer (type)                Output Shape              Param #   \n",
            "=================================================================\n",
            " input_4 (InputLayer)        [(None, 20000)]           0         \n",
            "                                                                 \n",
            " dense_6 (Dense)             (None, 16)                320016    \n",
            "                                                                 \n",
            " dropout_3 (Dropout)         (None, 16)                0         \n",
            "                                                                 \n",
            " dense_7 (Dense)             (None, 1)                 17        \n",
            "                                                                 \n",
            "=================================================================\n",
            "Total params: 320033 (1.22 MB)\n",
            "Trainable params: 320033 (1.22 MB)\n",
            "Non-trainable params: 0 (0.00 Byte)\n",
            "_________________________________________________________________\n",
            "Epoch 1/10\n",
            "625/625 [==============================] - 8s 12ms/step - loss: 0.3901 - accuracy: 0.8371 - val_loss: 0.2620 - val_accuracy: 0.8972\n",
            "Epoch 2/10\n",
            "625/625 [==============================] - 3s 4ms/step - loss: 0.2427 - accuracy: 0.9156 - val_loss: 0.2731 - val_accuracy: 0.8982\n",
            "Epoch 3/10\n",
            "625/625 [==============================] - 3s 4ms/step - loss: 0.2048 - accuracy: 0.9324 - val_loss: 0.2816 - val_accuracy: 0.8994\n",
            "Epoch 4/10\n",
            "625/625 [==============================] - 4s 6ms/step - loss: 0.1827 - accuracy: 0.9431 - val_loss: 0.3161 - val_accuracy: 0.8928\n",
            "Epoch 5/10\n",
            "625/625 [==============================] - 3s 4ms/step - loss: 0.1731 - accuracy: 0.9486 - val_loss: 0.3208 - val_accuracy: 0.8972\n",
            "Epoch 6/10\n",
            "625/625 [==============================] - 3s 5ms/step - loss: 0.1707 - accuracy: 0.9522 - val_loss: 0.3417 - val_accuracy: 0.8950\n",
            "Epoch 7/10\n",
            "625/625 [==============================] - 3s 4ms/step - loss: 0.1653 - accuracy: 0.9538 - val_loss: 0.3647 - val_accuracy: 0.8944\n",
            "Epoch 8/10\n",
            "625/625 [==============================] - 3s 5ms/step - loss: 0.1684 - accuracy: 0.9539 - val_loss: 0.3673 - val_accuracy: 0.8924\n",
            "Epoch 9/10\n",
            "625/625 [==============================] - 3s 4ms/step - loss: 0.1520 - accuracy: 0.9564 - val_loss: 0.3775 - val_accuracy: 0.8892\n",
            "Epoch 10/10\n",
            "625/625 [==============================] - 3s 4ms/step - loss: 0.1563 - accuracy: 0.9570 - val_loss: 0.3972 - val_accuracy: 0.8890\n",
            "782/782 [==============================] - 7s 8ms/step - loss: 0.2666 - accuracy: 0.8964\n",
            "테스트 정확도: 0.896\n"
          ]
        }
      ],
      "source": [
        "text_vectorization.adapt(text_only_train_ds)\n",
        "binary_2gram_train_ds = train_ds.map(\n",
        "    lambda x, y: (text_vectorization(x), y),\n",
        "    num_parallel_calls=4)\n",
        "binary_2gram_val_ds = val_ds.map(\n",
        "    lambda x, y: (text_vectorization(x), y),\n",
        "    num_parallel_calls=4)\n",
        "binary_2gram_test_ds = test_ds.map(\n",
        "    lambda x, y: (text_vectorization(x), y),\n",
        "    num_parallel_calls=4)\n",
        "\n",
        "model = get_model()\n",
        "model.summary()\n",
        "callbacks = [\n",
        "    keras.callbacks.ModelCheckpoint(\"binary_2gram.h5\",\n",
        "                                    save_best_only=True)\n",
        "]\n",
        "model.fit(binary_2gram_train_ds.cache(),\n",
        "          validation_data=binary_2gram_val_ds.cache(),\n",
        "          epochs=10,\n",
        "          callbacks=callbacks)\n",
        "model = keras.models.load_model(\"binary_2gram.h5\")\n",
        "print(f\"테스트 정확도: {model.evaluate(binary_2gram_test_ds)[1]:.3f}\")"
      ]
    },
    {
      "cell_type": "markdown",
      "metadata": {
        "id": "vJTgC5qDPHWL"
      },
      "source": [
        "#### TF-IDF 인코딩을 사용한 바이그램"
      ]
    },
    {
      "cell_type": "markdown",
      "metadata": {
        "id": "R6zaQL_wPHWL"
      },
      "source": [
        "**토큰 카운트를 반환하는 `TextVectorization` 층**"
      ]
    },
    {
      "cell_type": "code",
      "execution_count": 24,
      "metadata": {
        "id": "TAHAvzsgPHWL"
      },
      "outputs": [],
      "source": [
        "text_vectorization = TextVectorization(\n",
        "    ngrams=2,\n",
        "    max_tokens=20000,\n",
        "    output_mode=\"count\"\n",
        ")"
      ]
    },
    {
      "cell_type": "markdown",
      "metadata": {
        "id": "ukzyV24GPHWL"
      },
      "source": [
        "**TF-IDF 가중치가 적용된 출력을 반환하는 `TextVectorization` 층**"
      ]
    },
    {
      "cell_type": "code",
      "execution_count": 25,
      "metadata": {
        "id": "6Um9A6ydPHWL"
      },
      "outputs": [],
      "source": [
        "text_vectorization = TextVectorization(\n",
        "    ngrams=2,\n",
        "    max_tokens=20000,\n",
        "    output_mode=\"tf_idf\",\n",
        ")"
      ]
    },
    {
      "cell_type": "markdown",
      "metadata": {
        "id": "BwoBv2nqPHWM"
      },
      "source": [
        "**TF-IDF 바이그램 모델 훈련하고 테스트하기**"
      ]
    },
    {
      "cell_type": "code",
      "execution_count": 26,
      "metadata": {
        "colab": {
          "base_uri": "https://localhost:8080/"
        },
        "id": "AGhSasurPHWM",
        "outputId": "8110eafb-226a-4b5c-f058-4d79f0977f05"
      },
      "outputs": [
        {
          "name": "stdout",
          "output_type": "stream",
          "text": [
            "Model: \"model_4\"\n",
            "_________________________________________________________________\n",
            " Layer (type)                Output Shape              Param #   \n",
            "=================================================================\n",
            " input_5 (InputLayer)        [(None, 20000)]           0         \n",
            "                                                                 \n",
            " dense_8 (Dense)             (None, 16)                320016    \n",
            "                                                                 \n",
            " dropout_4 (Dropout)         (None, 16)                0         \n",
            "                                                                 \n",
            " dense_9 (Dense)             (None, 1)                 17        \n",
            "                                                                 \n",
            "=================================================================\n",
            "Total params: 320033 (1.22 MB)\n",
            "Trainable params: 320033 (1.22 MB)\n",
            "Non-trainable params: 0 (0.00 Byte)\n",
            "_________________________________________________________________\n",
            "Epoch 1/10\n",
            "625/625 [==============================] - 6s 9ms/step - loss: 0.5076 - accuracy: 0.7673 - val_loss: 0.2983 - val_accuracy: 0.8894\n",
            "Epoch 2/10\n",
            "625/625 [==============================] - 3s 4ms/step - loss: 0.3358 - accuracy: 0.8559 - val_loss: 0.3017 - val_accuracy: 0.8704\n",
            "Epoch 3/10\n",
            "625/625 [==============================] - 4s 6ms/step - loss: 0.2955 - accuracy: 0.8723 - val_loss: 0.3197 - val_accuracy: 0.8888\n",
            "Epoch 4/10\n",
            "625/625 [==============================] - 4s 6ms/step - loss: 0.2782 - accuracy: 0.8812 - val_loss: 0.3548 - val_accuracy: 0.8856\n",
            "Epoch 5/10\n",
            "625/625 [==============================] - 3s 5ms/step - loss: 0.2561 - accuracy: 0.8917 - val_loss: 0.3496 - val_accuracy: 0.8840\n",
            "Epoch 6/10\n",
            "625/625 [==============================] - 3s 4ms/step - loss: 0.2462 - accuracy: 0.9006 - val_loss: 0.3562 - val_accuracy: 0.8690\n",
            "Epoch 7/10\n",
            "625/625 [==============================] - 3s 5ms/step - loss: 0.2369 - accuracy: 0.8967 - val_loss: 0.3624 - val_accuracy: 0.8896\n",
            "Epoch 8/10\n",
            "625/625 [==============================] - 3s 4ms/step - loss: 0.2291 - accuracy: 0.9051 - val_loss: 0.3716 - val_accuracy: 0.8770\n",
            "Epoch 9/10\n",
            "625/625 [==============================] - 3s 4ms/step - loss: 0.2244 - accuracy: 0.9062 - val_loss: 0.3864 - val_accuracy: 0.8772\n",
            "Epoch 10/10\n",
            "625/625 [==============================] - 3s 4ms/step - loss: 0.2196 - accuracy: 0.9071 - val_loss: 0.4029 - val_accuracy: 0.8814\n",
            "782/782 [==============================] - 6s 7ms/step - loss: 0.3042 - accuracy: 0.8860\n",
            "테스트 정확도: 0.886\n"
          ]
        }
      ],
      "source": [
        "\n",
        "## adapt()를 호출하면 어휘 사전과 TF-IDF 가중치를 학습\n",
        "text_vectorization.adapt(text_only_train_ds)\n",
        "\n",
        "tfidf_2gram_train_ds = train_ds.map(\n",
        "    lambda x, y: (text_vectorization(x), y),\n",
        "    num_parallel_calls=4)\n",
        "tfidf_2gram_val_ds = val_ds.map(\n",
        "    lambda x, y: (text_vectorization(x), y),\n",
        "    num_parallel_calls=4)\n",
        "tfidf_2gram_test_ds = test_ds.map(\n",
        "    lambda x, y: (text_vectorization(x), y),\n",
        "    num_parallel_calls=4)\n",
        "\n",
        "model = get_model()\n",
        "model.summary()\n",
        "callbacks = [\n",
        "    keras.callbacks.ModelCheckpoint(\"tfidf_2gram.h5\", save_best_only=True)\n",
        "]\n",
        "model.fit(tfidf_2gram_train_ds.cache(),\n",
        "          validation_data=tfidf_2gram_val_ds.cache(),\n",
        "          epochs=10,\n",
        "          callbacks=callbacks)\n",
        "model = keras.models.load_model(\"tfidf_2gram.h5\")\n",
        "print(f\"테스트 정확도: {model.evaluate(tfidf_2gram_test_ds)[1]:.3f}\")"
      ]
    },
    {
      "cell_type": "code",
      "execution_count": 27,
      "metadata": {
        "id": "tGIbe1KrPHWM"
      },
      "outputs": [],
      "source": [
        "inputs = keras.Input(shape=(1,), dtype=\"string\") ## 하나의 입력 샘플은 하나의 문자열\n",
        "processed_inputs = text_vectorization(inputs) ## 텍스트 전처리 수행: 입력된 텍스트 데이터를 2-garm 벡터로 변환\n",
        "outputs = model(processed_inputs) ## 전처리된 텍스트 벡터를 model에 입력하여 예측을 수행\n",
        "inference_model = keras.Model(inputs, outputs) ## 예측 결과를 반환 (end-to-end)"
      ]
    },
    {
      "cell_type": "code",
      "execution_count": 28,
      "metadata": {
        "colab": {
          "base_uri": "https://localhost:8080/"
        },
        "id": "XBEraM_0PHWM",
        "outputId": "1fb411da-3d03-4ebf-a4de-76364f4e5940"
      },
      "outputs": [
        {
          "name": "stdout",
          "output_type": "stream",
          "text": [
            "긍정적인 리뷰일 확률: 93.58 퍼센트\n"
          ]
        }
      ],
      "source": [
        "import tensorflow as tf\n",
        "raw_text_data = tf.convert_to_tensor([\n",
        "    [\"That was an excellent movie, I loved it.\"],\n",
        "])\n",
        "predictions = inference_model(raw_text_data)\n",
        "print(f\"긍정적인 리뷰일 확률: {float(predictions[0] * 100):.2f} 퍼센트\")"
      ]
    },
    {
      "cell_type": "markdown",
      "metadata": {},
      "source": [
        "#### 첫 번째 예제"
      ]
    },
    {
      "cell_type": "markdown",
      "metadata": {},
      "source": [
        "**데이터 다운로드**"
      ]
    },
    {
      "cell_type": "code",
      "execution_count": null,
      "metadata": {},
      "outputs": [
        {
          "name": "stdout",
          "output_type": "stream",
          "text": [
            "rm: cannot remove 'aclImdb': No such file or directory\n",
            "  % Total    % Received % Xferd  Average Speed   Time    Time     Time  Current\n",
            "                                 Dload  Upload   Total   Spent    Left  Speed\n",
            "100 80.2M  100 80.2M    0     0  4916k      0  0:00:16  0:00:16 --:--:-- 8263k\n"
          ]
        }
      ],
      "source": [
        "!rm -r aclImdb\n",
        "!curl -O https://ai.stanford.edu/~amaas/data/sentiment/aclImdb_v1.tar.gz\n",
        "!tar -xf aclImdb_v1.tar.gz\n",
        "!rm -r aclImdb/train/unsup"
      ]
    },
    {
      "cell_type": "markdown",
      "metadata": {},
      "source": [
        "**데이터 준비**"
      ]
    },
    {
      "cell_type": "code",
      "execution_count": null,
      "metadata": {},
      "outputs": [
        {
          "name": "stdout",
          "output_type": "stream",
          "text": [
            "Found 20000 files belonging to 2 classes.\n",
            "Found 5000 files belonging to 2 classes.\n",
            "Found 25000 files belonging to 2 classes.\n"
          ]
        }
      ],
      "source": [
        "import os, pathlib, shutil, random\n",
        "from tensorflow import keras\n",
        "batch_size = 32\n",
        "base_dir = pathlib.Path(\"aclImdb\")\n",
        "val_dir = base_dir / \"val\"\n",
        "train_dir = base_dir / \"train\"\n",
        "\n",
        "for category in (\"neg\", \"pos\"):\n",
        "    os.makedirs(val_dir / category)\n",
        "    files = os.listdir(train_dir / category)\n",
        "    random.Random(1337).shuffle(files)\n",
        "    num_val_samples = int(0.2 * len(files))\n",
        "    val_files = files[-num_val_samples:]\n",
        "    for fname in val_files:\n",
        "        shutil.move(train_dir / category / fname,\n",
        "                    val_dir / category / fname)\n",
        "\n",
        "train_ds = keras.utils.text_dataset_from_directory(\n",
        "    \"aclImdb/train\", batch_size=batch_size\n",
        ")\n",
        "val_ds = keras.utils.text_dataset_from_directory(\n",
        "    \"aclImdb/val\", batch_size=batch_size\n",
        ")\n",
        "test_ds = keras.utils.text_dataset_from_directory(\n",
        "    \"aclImdb/test\", batch_size=batch_size\n",
        ")\n",
        "text_only_train_ds = train_ds.map(lambda x, y: x)"
      ]
    },
    {
      "cell_type": "markdown",
      "metadata": {},
      "source": [
        "**정수 시퀀스 데이터셋 준비하기**"
      ]
    },
    {
      "cell_type": "code",
      "execution_count": null,
      "metadata": {},
      "outputs": [],
      "source": [
        "from tensorflow.keras import layers\n",
        "\n",
        "max_length = 600\n",
        "max_tokens = 20000\n",
        "text_vectorization = layers.TextVectorization(\n",
        "    max_tokens=max_tokens,\n",
        "    output_mode=\"int\",\n",
        "    ## 적당한 입력 크기를 유지하기 위해 입력에서 600개 단어 이후는 잘라 버림\n",
        "    ## 평균 리뷰 길이가 233개의 단어고 600개의 단어보다 긴 리뷰는 5%뿐이므로 합리적인 선택\n",
        "    output_sequence_length=max_length,\n",
        ")\n",
        "text_vectorization.adapt(text_only_train_ds)\n",
        "\n",
        "int_train_ds = train_ds.map(\n",
        "    lambda x, y: (text_vectorization(x), y),\n",
        "    num_parallel_calls=4)\n",
        "int_val_ds = val_ds.map(\n",
        "    lambda x, y: (text_vectorization(x), y),\n",
        "    num_parallel_calls=4)\n",
        "int_test_ds = test_ds.map(\n",
        "    lambda x, y: (text_vectorization(x), y),\n",
        "    num_parallel_calls=4)"
      ]
    },
    {
      "cell_type": "markdown",
      "metadata": {},
      "source": [
        "**원-핫 인코딩된 벡터 시퀀스로 시퀀스 모델 만들기**"
      ]
    },
    {
      "cell_type": "code",
      "execution_count": null,
      "metadata": {},
      "outputs": [
        {
          "name": "stdout",
          "output_type": "stream",
          "text": [
            "Model: \"model\"\n",
            "_________________________________________________________________\n",
            " Layer (type)                Output Shape              Param #   \n",
            "=================================================================\n",
            " input_1 (InputLayer)        [(None, None)]            0         \n",
            "                                                                 \n",
            " tf.one_hot (TFOpLambda)     (None, None, 20000)       0         \n",
            "                                                                 \n",
            " bidirectional (Bidirection  (None, 64)                5128448   \n",
            " al)                                                             \n",
            "                                                                 \n",
            " dropout (Dropout)           (None, 64)                0         \n",
            "                                                                 \n",
            " dense (Dense)               (None, 1)                 65        \n",
            "                                                                 \n",
            "=================================================================\n",
            "Total params: 5128513 (19.56 MB)\n",
            "Trainable params: 5128513 (19.56 MB)\n",
            "Non-trainable params: 0 (0.00 Byte)\n",
            "_________________________________________________________________\n"
          ]
        }
      ],
      "source": [
        "import tensorflow as tf\n",
        "inputs = keras.Input(shape=(None,), dtype=\"int64\") ## 입력은 정수 시퀀스\n",
        "embedded = tf.one_hot(inputs, depth=max_tokens) ## 정수를 20,000차원의 이진 벡터로 인코딩\n",
        "x = layers.Bidirectional(layers.LSTM(32))(embedded) ## 양방향 LSTM 층을 추가\n",
        "x = layers.Dropout(0.5)(x)\n",
        "outputs = layers.Dense(1, activation=\"sigmoid\")(x) ## 층을 분류\n",
        "model = keras.Model(inputs, outputs)\n",
        "model.compile(optimizer=\"rmsprop\",\n",
        "              loss=\"binary_crossentropy\",\n",
        "              metrics=[\"accuracy\"])\n",
        "model.summary()"
      ]
    },
    {
      "cell_type": "markdown",
      "metadata": {},
      "source": [
        "**첫 번째 시퀀스 모델 훈련하기**"
      ]
    },
    {
      "cell_type": "code",
      "execution_count": null,
      "metadata": {},
      "outputs": [
        {
          "name": "stdout",
          "output_type": "stream",
          "text": [
            "Epoch 1/10\n",
            "625/625 [==============================] - 60s 96ms/step - loss: 0.4053 - accuracy: 0.8417 - val_loss: 0.3337 - val_accuracy: 0.8776\n",
            "Epoch 2/10\n",
            "  1/625 [..............................] - ETA: 58s - loss: 0.3699 - accuracy: 0.8750"
          ]
        },
        {
          "name": "stderr",
          "output_type": "stream",
          "text": [
            "/usr/local/lib/python3.10/dist-packages/keras/src/engine/training.py:3079: UserWarning: You are saving your model as an HDF5 file via `model.save()`. This file format is considered legacy. We recommend using instead the native Keras format, e.g. `model.save('my_model.keras')`.\n",
            "  saving_api.save_model(\n"
          ]
        },
        {
          "name": "stdout",
          "output_type": "stream",
          "text": [
            "625/625 [==============================] - 60s 95ms/step - loss: 0.3114 - accuracy: 0.8871 - val_loss: 0.3029 - val_accuracy: 0.8908\n",
            "Epoch 3/10\n",
            "625/625 [==============================] - 60s 95ms/step - loss: 0.2707 - accuracy: 0.9071 - val_loss: 0.3504 - val_accuracy: 0.8510\n",
            "Epoch 4/10\n",
            "625/625 [==============================] - 60s 95ms/step - loss: 0.2336 - accuracy: 0.9218 - val_loss: 0.3676 - val_accuracy: 0.8836\n",
            "Epoch 5/10\n",
            "625/625 [==============================] - 60s 95ms/step - loss: 0.2042 - accuracy: 0.9313 - val_loss: 0.2786 - val_accuracy: 0.8920\n",
            "Epoch 6/10\n",
            "625/625 [==============================] - 60s 96ms/step - loss: 0.1811 - accuracy: 0.9420 - val_loss: 0.3031 - val_accuracy: 0.8924\n",
            "Epoch 7/10\n",
            "625/625 [==============================] - 60s 95ms/step - loss: 0.1615 - accuracy: 0.9481 - val_loss: 0.3695 - val_accuracy: 0.8890\n",
            "Epoch 8/10\n",
            "625/625 [==============================] - 60s 96ms/step - loss: 0.1442 - accuracy: 0.9547 - val_loss: 0.3390 - val_accuracy: 0.8924\n",
            "Epoch 9/10\n",
            "625/625 [==============================] - 60s 95ms/step - loss: 0.1261 - accuracy: 0.9610 - val_loss: 0.3416 - val_accuracy: 0.8808\n",
            "Epoch 10/10\n",
            "625/625 [==============================] - 60s 95ms/step - loss: 0.1054 - accuracy: 0.9676 - val_loss: 0.3487 - val_accuracy: 0.8842\n",
            "782/782 [==============================] - 33s 42ms/step - loss: 0.3112 - accuracy: 0.8799\n",
            "테스트 정확도: 0.880\n"
          ]
        }
      ],
      "source": [
        "callbacks = [\n",
        "    keras.callbacks.ModelCheckpoint(\"one_hot_bidir_lstm.h5\",\n",
        "                                    save_best_only=True)\n",
        "]\n",
        "model.fit(int_train_ds, validation_data=int_val_ds, epochs=10, callbacks=callbacks)\n",
        "model = keras.models.load_model(\"one_hot_bidir_lstm.h5\")\n",
        "print(f\"테스트 정확도: {model.evaluate(int_test_ds)[1]:.3f}\")"
      ]
    },
    {
      "cell_type": "markdown",
      "metadata": {},
      "source": [
        "#### 단어 임베딩 이해하기"
      ]
    },
    {
      "cell_type": "markdown",
      "metadata": {},
      "source": [
        "#### 임베딩 층으로 단어 임베딩 학습하기"
      ]
    },
    {
      "cell_type": "markdown",
      "metadata": {},
      "source": [
        "**`Embedding` 층 만들기**"
      ]
    },
    {
      "cell_type": "code",
      "execution_count": null,
      "metadata": {},
      "outputs": [],
      "source": [
        "## Embedding 층은 적어도 2개의 매개변수(가능한 토큰의 개수, 임베딩 차원)가 필요함\n",
        "embedding_layer = layers.Embedding(input_dim=max_tokens, output_dim=256)"
      ]
    },
    {
      "cell_type": "markdown",
      "metadata": {},
      "source": [
        "**밑바닥부터 훈련하는 `Embedding` 층을 사용한 모델**"
      ]
    },
    {
      "cell_type": "code",
      "execution_count": null,
      "metadata": {},
      "outputs": [
        {
          "name": "stdout",
          "output_type": "stream",
          "text": [
            "Model: \"model_1\"\n",
            "_________________________________________________________________\n",
            " Layer (type)                Output Shape              Param #   \n",
            "=================================================================\n",
            " input_2 (InputLayer)        [(None, None)]            0         \n",
            "                                                                 \n",
            " embedding_1 (Embedding)     (None, None, 256)         5120000   \n",
            "                                                                 \n",
            " bidirectional_1 (Bidirecti  (None, 64)                73984     \n",
            " onal)                                                           \n",
            "                                                                 \n",
            " dropout_1 (Dropout)         (None, 64)                0         \n",
            "                                                                 \n",
            " dense_1 (Dense)             (None, 1)                 65        \n",
            "                                                                 \n",
            "=================================================================\n",
            "Total params: 5194049 (19.81 MB)\n",
            "Trainable params: 5194049 (19.81 MB)\n",
            "Non-trainable params: 0 (0.00 Byte)\n",
            "_________________________________________________________________\n",
            "Epoch 1/10\n",
            "625/625 [==============================] - 49s 73ms/step - loss: 0.5405 - accuracy: 0.7225 - val_loss: 0.3821 - val_accuracy: 0.8494\n",
            "Epoch 2/10\n",
            "625/625 [==============================] - 31s 49ms/step - loss: 0.3661 - accuracy: 0.8599 - val_loss: 0.6173 - val_accuracy: 0.7780\n",
            "Epoch 3/10\n",
            "625/625 [==============================] - 27s 44ms/step - loss: 0.2890 - accuracy: 0.8920 - val_loss: 0.3103 - val_accuracy: 0.8826\n",
            "Epoch 4/10\n",
            "625/625 [==============================] - 24s 39ms/step - loss: 0.2434 - accuracy: 0.9155 - val_loss: 0.4969 - val_accuracy: 0.8402\n",
            "Epoch 5/10\n",
            "625/625 [==============================] - 24s 38ms/step - loss: 0.2125 - accuracy: 0.9270 - val_loss: 0.3392 - val_accuracy: 0.8866\n",
            "Epoch 6/10\n",
            "625/625 [==============================] - 24s 38ms/step - loss: 0.1832 - accuracy: 0.9378 - val_loss: 0.3485 - val_accuracy: 0.8772\n",
            "Epoch 7/10\n",
            "625/625 [==============================] - 23s 37ms/step - loss: 0.1556 - accuracy: 0.9488 - val_loss: 0.3623 - val_accuracy: 0.8604\n",
            "Epoch 8/10\n",
            "625/625 [==============================] - 23s 36ms/step - loss: 0.1321 - accuracy: 0.9569 - val_loss: 0.4931 - val_accuracy: 0.8418\n",
            "Epoch 9/10\n",
            "625/625 [==============================] - 22s 35ms/step - loss: 0.1182 - accuracy: 0.9627 - val_loss: 0.4107 - val_accuracy: 0.8720\n",
            "Epoch 10/10\n",
            "625/625 [==============================] - 22s 36ms/step - loss: 0.1003 - accuracy: 0.9688 - val_loss: 0.4704 - val_accuracy: 0.8694\n",
            "782/782 [==============================] - 12s 14ms/step - loss: 0.3433 - accuracy: 0.8672\n",
            "테스트 정확도: 0.867\n"
          ]
        }
      ],
      "source": [
        "inputs = keras.Input(shape=(None,), dtype=\"int64\")\n",
        "embedded = layers.Embedding(input_dim=max_tokens, output_dim=256)(inputs)\n",
        "x = layers.Bidirectional(layers.LSTM(32))(embedded)\n",
        "x = layers.Dropout(0.5)(x)\n",
        "outputs = layers.Dense(1, activation=\"sigmoid\")(x)\n",
        "model = keras.Model(inputs, outputs)\n",
        "model.compile(optimizer=\"rmsprop\",\n",
        "              loss=\"binary_crossentropy\",\n",
        "              metrics=[\"accuracy\"])\n",
        "model.summary()\n",
        "\n",
        "callbacks = [\n",
        "    keras.callbacks.ModelCheckpoint(\"embeddings_bidir_lstm.h5\",\n",
        "                                    save_best_only=True)\n",
        "]\n",
        "model.fit(int_train_ds, validation_data=int_val_ds, epochs=10, callbacks=callbacks)\n",
        "model = keras.models.load_model(\"embeddings_bidir_lstm.h5\")\n",
        "print(f\"테스트 정확도: {model.evaluate(int_test_ds)[1]:.3f}\")"
      ]
    },
    {
      "cell_type": "markdown",
      "metadata": {},
      "source": [
        "#### 패딩과 마스킹 이해하기"
      ]
    },
    {
      "cell_type": "markdown",
      "metadata": {},
      "source": [
        "**마스킹을 활성화한 `Embedding` 층 사용하기**"
      ]
    },
    {
      "cell_type": "code",
      "execution_count": null,
      "metadata": {},
      "outputs": [
        {
          "name": "stdout",
          "output_type": "stream",
          "text": [
            "Model: \"model_2\"\n",
            "_________________________________________________________________\n",
            " Layer (type)                Output Shape              Param #   \n",
            "=================================================================\n",
            " input_3 (InputLayer)        [(None, None)]            0         \n",
            "                                                                 \n",
            " embedding_2 (Embedding)     (None, None, 256)         5120000   \n",
            "                                                                 \n",
            " bidirectional_2 (Bidirecti  (None, 64)                73984     \n",
            " onal)                                                           \n",
            "                                                                 \n",
            " dropout_2 (Dropout)         (None, 64)                0         \n",
            "                                                                 \n",
            " dense_2 (Dense)             (None, 1)                 65        \n",
            "                                                                 \n",
            "=================================================================\n",
            "Total params: 5194049 (19.81 MB)\n",
            "Trainable params: 5194049 (19.81 MB)\n",
            "Non-trainable params: 0 (0.00 Byte)\n",
            "_________________________________________________________________\n",
            "Epoch 1/10\n",
            "625/625 [==============================] - 61s 85ms/step - loss: 0.4478 - accuracy: 0.7812 - val_loss: 0.3441 - val_accuracy: 0.8432\n",
            "Epoch 2/10\n",
            "625/625 [==============================] - 35s 57ms/step - loss: 0.2830 - accuracy: 0.8892 - val_loss: 0.2683 - val_accuracy: 0.8924\n",
            "Epoch 3/10\n",
            "625/625 [==============================] - 31s 50ms/step - loss: 0.2140 - accuracy: 0.9180 - val_loss: 0.2712 - val_accuracy: 0.8884\n",
            "Epoch 4/10\n",
            "625/625 [==============================] - 28s 45ms/step - loss: 0.1672 - accuracy: 0.9380 - val_loss: 0.3031 - val_accuracy: 0.8934\n",
            "Epoch 5/10\n",
            "625/625 [==============================] - 27s 43ms/step - loss: 0.1264 - accuracy: 0.9549 - val_loss: 0.3047 - val_accuracy: 0.8896\n",
            "Epoch 6/10\n",
            "625/625 [==============================] - 27s 43ms/step - loss: 0.0979 - accuracy: 0.9665 - val_loss: 0.4195 - val_accuracy: 0.8744\n",
            "Epoch 7/10\n",
            "625/625 [==============================] - 27s 43ms/step - loss: 0.0779 - accuracy: 0.9735 - val_loss: 0.3566 - val_accuracy: 0.8794\n",
            "Epoch 8/10\n",
            "625/625 [==============================] - 27s 43ms/step - loss: 0.0561 - accuracy: 0.9819 - val_loss: 0.4386 - val_accuracy: 0.8832\n",
            "Epoch 9/10\n",
            "625/625 [==============================] - 27s 43ms/step - loss: 0.0478 - accuracy: 0.9847 - val_loss: 0.5236 - val_accuracy: 0.8796\n",
            "Epoch 10/10\n",
            "625/625 [==============================] - 26s 42ms/step - loss: 0.0367 - accuracy: 0.9883 - val_loss: 0.4945 - val_accuracy: 0.8808\n",
            "782/782 [==============================] - 15s 16ms/step - loss: 0.3016 - accuracy: 0.8789\n",
            "테스트 정확도: 0.879\n"
          ]
        }
      ],
      "source": [
        "inputs = keras.Input(shape=(None,), dtype=\"int64\")\n",
        "embedded = layers.Embedding(\n",
        "    input_dim=max_tokens, output_dim=256, mask_zero=True)(inputs)\n",
        "x = layers.Bidirectional(layers.LSTM(32))(embedded)\n",
        "x = layers.Dropout(0.5)(x)\n",
        "outputs = layers.Dense(1, activation=\"sigmoid\")(x)\n",
        "model = keras.Model(inputs, outputs)\n",
        "model.compile(optimizer=\"rmsprop\",\n",
        "              loss=\"binary_crossentropy\",\n",
        "              metrics=[\"accuracy\"])\n",
        "model.summary()\n",
        "\n",
        "callbacks = [\n",
        "    keras.callbacks.ModelCheckpoint(\"embeddings_bidir_lstm_with_masking.h5\",\n",
        "                                    save_best_only=True)\n",
        "]\n",
        "model.fit(int_train_ds, validation_data=int_val_ds, epochs=10, callbacks=callbacks)\n",
        "model = keras.models.load_model(\"embeddings_bidir_lstm_with_masking.h5\")\n",
        "print(f\"테스트 정확도: {model.evaluate(int_test_ds)[1]:.3f}\")"
      ]
    },
    {
      "cell_type": "markdown",
      "metadata": {},
      "source": [
        "#### 사전 훈련된 단어 임베딩 사용하기"
      ]
    },
    {
      "cell_type": "code",
      "execution_count": null,
      "metadata": {},
      "outputs": [
        {
          "name": "stdout",
          "output_type": "stream",
          "text": [
            "--2023-11-04 03:32:09--  http://nlp.stanford.edu/data/glove.6B.zip\n",
            "Resolving nlp.stanford.edu (nlp.stanford.edu)... 171.64.67.140\n",
            "Connecting to nlp.stanford.edu (nlp.stanford.edu)|171.64.67.140|:80... connected.\n",
            "HTTP request sent, awaiting response... 302 Found\n",
            "Location: https://nlp.stanford.edu/data/glove.6B.zip [following]\n",
            "--2023-11-04 03:32:09--  https://nlp.stanford.edu/data/glove.6B.zip\n",
            "Connecting to nlp.stanford.edu (nlp.stanford.edu)|171.64.67.140|:443... connected.\n",
            "HTTP request sent, awaiting response... 301 Moved Permanently\n",
            "Location: https://downloads.cs.stanford.edu/nlp/data/glove.6B.zip [following]\n",
            "--2023-11-04 03:32:09--  https://downloads.cs.stanford.edu/nlp/data/glove.6B.zip\n",
            "Resolving downloads.cs.stanford.edu (downloads.cs.stanford.edu)... 171.64.64.22\n",
            "Connecting to downloads.cs.stanford.edu (downloads.cs.stanford.edu)|171.64.64.22|:443... connected.\n",
            "HTTP request sent, awaiting response... 200 OK\n",
            "Length: 862182613 (822M) [application/zip]\n",
            "Saving to: ‘glove.6B.zip’\n",
            "\n",
            "glove.6B.zip        100%[===================>] 822.24M  5.11MB/s    in 2m 40s  \n",
            "\n",
            "2023-11-04 03:34:50 (5.15 MB/s) - ‘glove.6B.zip’ saved [862182613/862182613]\n",
            "\n"
          ]
        }
      ],
      "source": [
        "!wget http://nlp.stanford.edu/data/glove.6B.zip\n",
        "!unzip -q glove.6B.zip"
      ]
    },
    {
      "cell_type": "markdown",
      "metadata": {},
      "source": [
        "**GloVe 단어 임베딩 파일 파싱하기**"
      ]
    },
    {
      "cell_type": "code",
      "execution_count": null,
      "metadata": {},
      "outputs": [
        {
          "name": "stdout",
          "output_type": "stream",
          "text": [
            "단어 벡터 개수: 400000\n"
          ]
        }
      ],
      "source": [
        "import numpy as np\n",
        "path_to_glove_file = \"glove.6B.100d.txt\"\n",
        "\n",
        "embeddings_index = {} ## 딕셔너리\n",
        "with open(path_to_glove_file) as f:\n",
        "    for line in f:\n",
        "        word, coefs = line.split(maxsplit=1) ## 각줄을 단어(word)와 벡터(coefs)로 나늠\n",
        "        coefs = np.fromstring(coefs, \"f\", sep=\" \") ## 벡터를 실수 배열로 뱐환\n",
        "        embeddings_index[word] = coefs ## 변환된 벡터를 embeddings_index 딕셔너리에 단어를 키로 하여 저장\n",
        "\n",
        "print(f\"단어 벡터 개수: {len(embeddings_index)}\") ## 단어 벡터 개수: 400000"
      ]
    },
    {
      "cell_type": "markdown",
      "metadata": {},
      "source": [
        "**GloVe 단어 임베딩 행렬 준비하기**"
      ]
    },
    {
      "cell_type": "code",
      "execution_count": null,
      "metadata": {},
      "outputs": [],
      "source": [
        "embedding_dim = 100\n",
        "\n",
        "## TextVectorization 층에 인덱싱된 단어를 추출\n",
        "vocabulary = text_vectorization.get_vocabulary()\n",
        "## 어휘 사전에 있는 단어와 인덱스를 매핑\n",
        "word_index = dict(zip(vocabulary, range(len(vocabulary))))\n",
        "\n",
        "## GloVe 벡터로 채울 행렬을 준비\n",
        "embedding_matrix = np.zeros((max_tokens, embedding_dim))\n",
        "for word, i in word_index.items():\n",
        "    if i < max_tokens: ## word의 index가 20,000(max_tokens or num_words)보다 작은 경우만\n",
        "        embedding_vector = embeddings_index.get(word) ## word에 해당하는 임베딩 벡터\n",
        "    ## 인덱스 i에 대한 단어 벡터로 행렬의 i번째 항목을 채움\n",
        "    ## 임베딩 인덱스에 없는 단어는 모두 0이 됨\n",
        "    if embedding_vector is not None:\n",
        "        embedding_matrix[i] = embedding_vector"
      ]
    },
    {
      "cell_type": "code",
      "execution_count": null,
      "metadata": {},
      "outputs": [],
      "source": [
        "embedding_layer = layers.Embedding(\n",
        "    max_tokens,\n",
        "    embedding_dim,\n",
        "    ## 사전 학습된 임베딩으로 초기화\n",
        "    embeddings_initializer=keras.initializers.Constant(embedding_matrix),\n",
        "    trainable=False, ## 사전 학습된 임베딩 벡터를 그대로 사용\n",
        "    mask_zero=True, ## 패딩 처리: 0으로 마스킹된 값을 무시\n",
        ")"
      ]
    },
    {
      "cell_type": "markdown",
      "metadata": {},
      "source": [
        "**사전 훈련된 임베딩을 사용하는 모델**"
      ]
    },
    {
      "cell_type": "code",
      "execution_count": null,
      "metadata": {},
      "outputs": [
        {
          "name": "stdout",
          "output_type": "stream",
          "text": [
            "Model: \"model_3\"\n",
            "_________________________________________________________________\n",
            " Layer (type)                Output Shape              Param #   \n",
            "=================================================================\n",
            " input_4 (InputLayer)        [(None, None)]            0         \n",
            "                                                                 \n",
            " embedding_3 (Embedding)     (None, None, 100)         2000000   \n",
            "                                                                 \n",
            " bidirectional_3 (Bidirecti  (None, 64)                34048     \n",
            " onal)                                                           \n",
            "                                                                 \n",
            " dropout_3 (Dropout)         (None, 64)                0         \n",
            "                                                                 \n",
            " dense_3 (Dense)             (None, 1)                 65        \n",
            "                                                                 \n",
            "=================================================================\n",
            "Total params: 2034113 (7.76 MB)\n",
            "Trainable params: 34113 (133.25 KB)\n",
            "Non-trainable params: 2000000 (7.63 MB)\n",
            "_________________________________________________________________\n",
            "Epoch 1/10\n",
            "625/625 [==============================] - 43s 56ms/step - loss: 0.5839 - accuracy: 0.6873 - val_loss: 0.4812 - val_accuracy: 0.7706\n",
            "Epoch 2/10\n",
            "625/625 [==============================] - 30s 49ms/step - loss: 0.4530 - accuracy: 0.7933 - val_loss: 0.4199 - val_accuracy: 0.8090\n",
            "Epoch 3/10\n",
            "625/625 [==============================] - 30s 47ms/step - loss: 0.4024 - accuracy: 0.8238 - val_loss: 0.3591 - val_accuracy: 0.8446\n",
            "Epoch 4/10\n",
            "625/625 [==============================] - 30s 48ms/step - loss: 0.3596 - accuracy: 0.8460 - val_loss: 0.3399 - val_accuracy: 0.8570\n",
            "Epoch 5/10\n",
            "625/625 [==============================] - 26s 41ms/step - loss: 0.3373 - accuracy: 0.8587 - val_loss: 0.3678 - val_accuracy: 0.8436\n",
            "Epoch 6/10\n",
            "625/625 [==============================] - 30s 47ms/step - loss: 0.3175 - accuracy: 0.8669 - val_loss: 0.3374 - val_accuracy: 0.8582\n",
            "Epoch 7/10\n",
            "625/625 [==============================] - 29s 46ms/step - loss: 0.2990 - accuracy: 0.8762 - val_loss: 0.3182 - val_accuracy: 0.8646\n",
            "Epoch 8/10\n",
            "625/625 [==============================] - 29s 46ms/step - loss: 0.2819 - accuracy: 0.8845 - val_loss: 0.3024 - val_accuracy: 0.8740\n",
            "Epoch 9/10\n",
            "625/625 [==============================] - 29s 46ms/step - loss: 0.2658 - accuracy: 0.8912 - val_loss: 0.2979 - val_accuracy: 0.8788\n",
            "Epoch 10/10\n",
            "625/625 [==============================] - 24s 38ms/step - loss: 0.2567 - accuracy: 0.8984 - val_loss: 0.3026 - val_accuracy: 0.8826\n"
          ]
        }
      ],
      "source": [
        "inputs = keras.Input(shape=(None,), dtype=\"int64\")\n",
        "embedded = embedding_layer(inputs)\n",
        "x = layers.Bidirectional(layers.LSTM(32))(embedded)\n",
        "x = layers.Dropout(0.5)(x)\n",
        "outputs = layers.Dense(1, activation=\"sigmoid\")(x)\n",
        "model = keras.Model(inputs, outputs)\n",
        "model.compile(optimizer=\"rmsprop\",\n",
        "              loss=\"binary_crossentropy\",\n",
        "              metrics=[\"accuracy\"])\n",
        "model.summary()\n",
        "\n",
        "callbacks = [\n",
        "    keras.callbacks.ModelCheckpoint(\"glove_embeddings_sequence_model.h5\",\n",
        "                                    save_best_only=True)\n",
        "]\n",
        "model.fit(int_train_ds, validation_data=int_val_ds, epochs=10, callbacks=callbacks)\n",
        "model = keras.models.load_model(\"glove_embeddings_sequence_model.h5\")\n",
        "print(f\"테스트 정확도: {model.evaluate(int_test_ds)[1]:.3f}\")"
      ]
    },
    {
      "cell_type": "markdown",
      "metadata": {},
      "source": [
        "# 4. 트랜스포머 아키텍처"
      ]
    },
    {
      "cell_type": "markdown",
      "metadata": {},
      "source": [
        "**데이터 가져오기**"
      ]
    },
    {
      "cell_type": "code",
      "execution_count": null,
      "metadata": {},
      "outputs": [
        {
          "name": "stdout",
          "output_type": "stream",
          "text": [
            "rm: cannot remove 'aclImdb': No such file or directory\n",
            "  % Total    % Received % Xferd  Average Speed   Time    Time     Time  Current\n",
            "                                 Dload  Upload   Total   Spent    Left  Speed\n",
            "100 80.2M  100 80.2M    0     0  21.3M      0  0:00:03  0:00:03 --:--:-- 21.3M\n"
          ]
        }
      ],
      "source": [
        "!rm -r aclImdb\n",
        "!curl -O https://ai.stanford.edu/~amaas/data/sentiment/aclImdb_v1.tar.gz\n",
        "!tar -xf aclImdb_v1.tar.gz\n",
        "!rm -r aclImdb/train/unsup"
      ]
    },
    {
      "cell_type": "markdown",
      "metadata": {},
      "source": [
        "**데이터 준비**"
      ]
    },
    {
      "cell_type": "code",
      "execution_count": null,
      "metadata": {},
      "outputs": [
        {
          "name": "stdout",
          "output_type": "stream",
          "text": [
            "Found 20000 files belonging to 2 classes.\n",
            "Found 5000 files belonging to 2 classes.\n",
            "Found 25000 files belonging to 2 classes.\n"
          ]
        }
      ],
      "source": [
        "import os, pathlib, shutil, random\n",
        "from tensorflow import keras\n",
        "batch_size = 32\n",
        "base_dir = pathlib.Path(\"aclImdb\")\n",
        "val_dir = base_dir / \"val\"\n",
        "train_dir = base_dir / \"train\"\n",
        "for category in (\"neg\", \"pos\"):\n",
        "    os.makedirs(val_dir / category)\n",
        "    files = os.listdir(train_dir / category)\n",
        "    random.Random(1337).shuffle(files)\n",
        "    num_val_samples = int(0.2 * len(files))\n",
        "    val_files = files[-num_val_samples:]\n",
        "    for fname in val_files:\n",
        "        shutil.move(train_dir / category / fname,\n",
        "                    val_dir / category / fname)\n",
        "\n",
        "train_ds = keras.utils.text_dataset_from_directory(\n",
        "    \"aclImdb/train\", batch_size=batch_size\n",
        ")\n",
        "val_ds = keras.utils.text_dataset_from_directory(\n",
        "    \"aclImdb/val\", batch_size=batch_size\n",
        ")\n",
        "test_ds = keras.utils.text_dataset_from_directory(\n",
        "    \"aclImdb/test\", batch_size=batch_size\n",
        ")\n",
        "text_only_train_ds = train_ds.map(lambda x, y: x)"
      ]
    },
    {
      "cell_type": "markdown",
      "metadata": {},
      "source": [
        "**데이터 벡터화**"
      ]
    },
    {
      "cell_type": "code",
      "execution_count": null,
      "metadata": {},
      "outputs": [],
      "source": [
        "from tensorflow.keras import layers\n",
        "\n",
        "max_length = 600\n",
        "max_tokens = 20000\n",
        "text_vectorization = layers.TextVectorization(\n",
        "    max_tokens=max_tokens,\n",
        "    output_mode=\"int\",\n",
        "    output_sequence_length=max_length,\n",
        ")\n",
        "text_vectorization.adapt(text_only_train_ds)\n",
        "\n",
        "int_train_ds = train_ds.map(\n",
        "    lambda x, y: (text_vectorization(x), y),\n",
        "    num_parallel_calls=4)\n",
        "int_val_ds = val_ds.map(\n",
        "    lambda x, y: (text_vectorization(x), y),\n",
        "    num_parallel_calls=4)\n",
        "int_test_ds = test_ds.map(\n",
        "    lambda x, y: (text_vectorization(x), y),\n",
        "    num_parallel_calls=4)"
      ]
    },
    {
      "cell_type": "markdown",
      "metadata": {},
      "source": [
        "**`Layer` 층을 상속하여 구현한 트랜스포머 인코더**"
      ]
    },
    {
      "cell_type": "code",
      "execution_count": null,
      "metadata": {},
      "outputs": [],
      "source": [
        "import tensorflow as tf\n",
        "from tensorflow import keras\n",
        "from tensorflow.keras import layers\n",
        "\n",
        "class TransformerEncoder(layers.Layer):\n",
        "    def __init__(self, embed_dim, dense_dim, num_heads, **kwargs):\n",
        "        super().__init__(**kwargs) ## 상위 클래스(layers.Layer) 초기화\n",
        "        self.embed_dim = embed_dim\n",
        "        self.dense_dim = dense_dim\n",
        "        self.num_heads = num_heads\n",
        "        self.attention = layers.MultiHeadAttention(\n",
        "            num_heads=num_heads, key_dim=embed_dim)\n",
        "        self.dense_proj = keras.Sequential(\n",
        "            [layers.Dense(dense_dim, activation=\"relu\"),\n",
        "             layers.Dense(embed_dim),]\n",
        "        )\n",
        "        self.layernorm_1 = layers.LayerNormalization()\n",
        "        self.layernorm_2 = layers.LayerNormalization()\n",
        "\n",
        "    ## call()에서 연산을 수행\n",
        "    def call(self, inputs, mask=None):\n",
        "        ## Embedding 층에서 생성하는 마스크는 2D이지만 어텐션 층은 3D or 4D를 기대하므로 랭크를 늘림\n",
        "        if mask is not None:\n",
        "            mask = mask[:, tf.newaxis, :]\n",
        "        attention_output = self.attention(\n",
        "            inputs, inputs, attention_mask=mask)\n",
        "        proj_input = self.layernorm_1(inputs + attention_output)\n",
        "        proj_output = self.dense_proj(proj_input)\n",
        "        return self.layernorm_2(proj_input + proj_output)\n",
        "\n",
        "    ## 모델을 저장할 수 있도록 직렬화를 구현\n",
        "    ## JSON 문자열 또는 바이트 스트림과 같이 쉽게 저장하거나 전송할 수 있는 형식으로 변환하는 프로세스\n",
        "    def get_config(self):\n",
        "        ## 상위 슈퍼클래스의 Layer 클래스\n",
        "        ## TransformerEncoder 인스턴스에서 get_config()를 호출하면\n",
        "        ## 모델 저장 및 로드와 같은 직렬화 목적에 사용, 객체를 저장, 전송 및 재구성\n",
        "        config = super().get_config()\n",
        "        config.update({\n",
        "            \"embed_dim\": self.embed_dim,\n",
        "            \"num_heads\": self.num_heads,\n",
        "            \"dense_dim\": self.dense_dim,\n",
        "        })\n",
        "        return config"
      ]
    },
    {
      "cell_type": "markdown",
      "metadata": {},
      "source": [
        "**트랜스포머 인코더를 사용하여 텍스트 분류하기**"
      ]
    },
    {
      "cell_type": "code",
      "execution_count": null,
      "metadata": {},
      "outputs": [
        {
          "name": "stdout",
          "output_type": "stream",
          "text": [
            "Model: \"model\"\n",
            "_________________________________________________________________\n",
            " Layer (type)                Output Shape              Param #   \n",
            "=================================================================\n",
            " input_1 (InputLayer)        [(None, None)]            0         \n",
            "                                                                 \n",
            " embedding (Embedding)       (None, None, 256)         5120000   \n",
            "                                                                 \n",
            " transformer_encoder (Trans  (None, None, 256)         543776    \n",
            " formerEncoder)                                                  \n",
            "                                                                 \n",
            " global_max_pooling1d (Glob  (None, 256)               0         \n",
            " alMaxPooling1D)                                                 \n",
            "                                                                 \n",
            " dropout (Dropout)           (None, 256)               0         \n",
            "                                                                 \n",
            " dense_2 (Dense)             (None, 1)                 257       \n",
            "                                                                 \n",
            "=================================================================\n",
            "Total params: 5664033 (21.61 MB)\n",
            "Trainable params: 5664033 (21.61 MB)\n",
            "Non-trainable params: 0 (0.00 Byte)\n",
            "_________________________________________________________________\n"
          ]
        }
      ],
      "source": [
        "vocab_size = 20000\n",
        "embed_dim = 256\n",
        "num_heads = 2\n",
        "dense_dim = 32\n",
        "\n",
        "inputs = keras.Input(shape=(None,), dtype=\"int64\")\n",
        "x = layers.Embedding(vocab_size, embed_dim)(inputs)\n",
        "x = TransformerEncoder(embed_dim, dense_dim, num_heads)(x) ## (None, None, embed_dim)\n",
        "## TransformerEncoder는 전체 시퀀스를 반환하기 때문에\n",
        "## 분류작업을 위해 전역 풀링 층으로 각 시퀀스를 하나의 벡터로 만듦 (None, embed_dim)\n",
        "x = layers.GlobalMaxPooling1D()(x)\n",
        "x = layers.Dropout(0.5)(x)\n",
        "outputs = layers.Dense(1, activation=\"sigmoid\")(x) ## (None, 1)\n",
        "model = keras.Model(inputs, outputs)\n",
        "model.compile(optimizer=\"rmsprop\",\n",
        "              loss=\"binary_crossentropy\",\n",
        "              metrics=[\"accuracy\"])\n",
        "model.summary()"
      ]
    },
    {
      "cell_type": "markdown",
      "metadata": {},
      "source": [
        "**트랜스포머 인코더 기반 모델 훈련하고 평가하기**"
      ]
    },
    {
      "cell_type": "code",
      "execution_count": null,
      "metadata": {},
      "outputs": [
        {
          "name": "stdout",
          "output_type": "stream",
          "text": [
            "Epoch 1/20\n",
            "625/625 [==============================] - 49s 78ms/step - loss: 0.3364 - accuracy: 0.8550 - val_loss: 0.3118 - val_accuracy: 0.8732\n"
          ]
        },
        {
          "name": "stderr",
          "output_type": "stream",
          "text": [
            "/usr/local/lib/python3.10/dist-packages/keras/src/engine/training.py:3079: UserWarning: You are saving your model as an HDF5 file via `model.save()`. This file format is considered legacy. We recommend using instead the native Keras format, e.g. `model.save('my_model.keras')`.\n",
            "  saving_api.save_model(\n"
          ]
        },
        {
          "name": "stdout",
          "output_type": "stream",
          "text": [
            "Epoch 2/20\n",
            "625/625 [==============================] - 43s 69ms/step - loss: 0.3045 - accuracy: 0.8699 - val_loss: 0.2991 - val_accuracy: 0.8732\n",
            "Epoch 3/20\n",
            "625/625 [==============================] - 44s 70ms/step - loss: 0.2724 - accuracy: 0.8887 - val_loss: 0.2877 - val_accuracy: 0.8802\n",
            "Epoch 4/20\n",
            "625/625 [==============================] - 44s 70ms/step - loss: 0.2435 - accuracy: 0.9021 - val_loss: 0.2880 - val_accuracy: 0.8804\n",
            "Epoch 5/20\n",
            "625/625 [==============================] - 43s 69ms/step - loss: 0.2141 - accuracy: 0.9158 - val_loss: 0.2930 - val_accuracy: 0.8814\n",
            "Epoch 6/20\n",
            "625/625 [==============================] - 42s 66ms/step - loss: 0.1861 - accuracy: 0.9284 - val_loss: 0.3078 - val_accuracy: 0.8786\n",
            "Epoch 7/20\n",
            "625/625 [==============================] - 43s 68ms/step - loss: 0.1538 - accuracy: 0.9419 - val_loss: 0.3307 - val_accuracy: 0.8772\n",
            "Epoch 8/20\n",
            "625/625 [==============================] - 43s 69ms/step - loss: 0.1293 - accuracy: 0.9524 - val_loss: 0.3357 - val_accuracy: 0.8776\n",
            "Epoch 9/20\n",
            "625/625 [==============================] - 41s 65ms/step - loss: 0.1035 - accuracy: 0.9615 - val_loss: 0.3685 - val_accuracy: 0.8768\n",
            "Epoch 10/20\n",
            "625/625 [==============================] - 41s 66ms/step - loss: 0.0827 - accuracy: 0.9698 - val_loss: 0.3738 - val_accuracy: 0.8778\n",
            "Epoch 11/20\n",
            "625/625 [==============================] - 41s 65ms/step - loss: 0.0657 - accuracy: 0.9765 - val_loss: 0.4341 - val_accuracy: 0.8772\n",
            "Epoch 12/20\n",
            "625/625 [==============================] - 41s 65ms/step - loss: 0.0524 - accuracy: 0.9814 - val_loss: 0.4558 - val_accuracy: 0.8726\n",
            "Epoch 13/20\n",
            "625/625 [==============================] - 42s 68ms/step - loss: 0.0408 - accuracy: 0.9854 - val_loss: 0.4878 - val_accuracy: 0.8640\n",
            "Epoch 14/20\n",
            "625/625 [==============================] - 41s 65ms/step - loss: 0.0329 - accuracy: 0.9883 - val_loss: 0.5147 - val_accuracy: 0.8688\n",
            "Epoch 15/20\n",
            "625/625 [==============================] - 42s 68ms/step - loss: 0.0296 - accuracy: 0.9897 - val_loss: 0.6139 - val_accuracy: 0.8692\n",
            "Epoch 16/20\n",
            "625/625 [==============================] - 40s 65ms/step - loss: 0.0241 - accuracy: 0.9915 - val_loss: 0.6086 - val_accuracy: 0.8654\n",
            "Epoch 17/20\n",
            "625/625 [==============================] - 42s 68ms/step - loss: 0.0185 - accuracy: 0.9936 - val_loss: 0.6920 - val_accuracy: 0.8594\n",
            "Epoch 18/20\n",
            "625/625 [==============================] - 41s 65ms/step - loss: 0.0177 - accuracy: 0.9943 - val_loss: 0.6765 - val_accuracy: 0.8652\n",
            "Epoch 19/20\n",
            "625/625 [==============================] - 42s 67ms/step - loss: 0.0160 - accuracy: 0.9942 - val_loss: 0.6938 - val_accuracy: 0.8624\n",
            "Epoch 20/20\n",
            "625/625 [==============================] - 40s 64ms/step - loss: 0.0158 - accuracy: 0.9948 - val_loss: 0.7845 - val_accuracy: 0.8628\n",
            "782/782 [==============================] - 19s 24ms/step - loss: 0.2999 - accuracy: 0.8715\n",
            "테스트 정확도: 0.871\n"
          ]
        }
      ],
      "source": [
        "callbacks = [\n",
        "    keras.callbacks.ModelCheckpoint(\"transformer_encoder.h5\",\n",
        "                                    save_best_only=True)\n",
        "]\n",
        "model.fit(int_train_ds, validation_data=int_val_ds, epochs=20, callbacks=callbacks)\n",
        "model = keras.models.load_model(\n",
        "    \"transformer_encoder.h5\",\n",
        "    custom_objects={\"TransformerEncoder\": TransformerEncoder})\n",
        "print(f\"테스트 정확도: {model.evaluate(int_test_ds)[1]:.3f}\")"
      ]
    },
    {
      "cell_type": "markdown",
      "metadata": {},
      "source": [
        "#### 위치 인코딩을 사용해 위치 정보 주입하기"
      ]
    },
    {
      "cell_type": "markdown",
      "metadata": {},
      "source": [
        "**서브클래싱으로 위치 임베딩 구현하기**"
      ]
    },
    {
      "cell_type": "code",
      "execution_count": null,
      "metadata": {},
      "outputs": [],
      "source": [
        "class PositionalEmbedding(layers.Layer):\n",
        "    ## 위치 임베딩의 단점: 시퀀스 길이를 미리 알아야 함\n",
        "    def __init__(self, sequence_length, input_dim, output_dim, **kwargs):\n",
        "        super().__init__(**kwargs)\n",
        "        ## 토큰 인덱스를 위한 Embedding 층을 준비\n",
        "        self.token_embeddings = layers.Embedding(\n",
        "            input_dim=input_dim, output_dim=output_dim)\n",
        "        ## 토큰 위치를 위한 ## 토큰 위치를 위한 Embedding 층을 준비 층을 준비\n",
        "        self.position_embeddings = layers.Embedding(\n",
        "            input_dim=sequence_length, output_dim=output_dim) \n",
        "        self.sequence_length = sequence_length\n",
        "        self.input_dim = input_dim\n",
        "        self.output_dim = output_dim\n",
        "\n",
        "    def call(self, inputs):\n",
        "        length = tf.shape(inputs)[-1] ## 600개의 Sqeuence 1\n",
        "        positions = tf.range(start=0, limit=length, delta=1)\n",
        "        embedded_tokens = self.token_embeddings(inputs)\n",
        "        embedded_positions = self.position_embeddings(positions)\n",
        "        return embedded_tokens + embedded_positions ## 두 임베딩 벡터를 더함\n",
        "\n",
        "    ## Embedding 층 처럼 이 층은 입력에 있는 0 패팅을 무시할 수 있도록 마스킹을 생성해야 함\n",
        "    ## compute_mask()는 프레임워크에 의해 자동으로 호출되고 만들어진 마스킹은 다음 층으로 전달됨\n",
        "    def compute_mask(self, inputs, mask=None):\n",
        "        return tf.math.not_equal(inputs, 0)\n",
        "\n",
        "    def get_config(self):\n",
        "        config = super().get_config()\n",
        "        config.update({\n",
        "            \"output_dim\": self.output_dim,\n",
        "            \"sequence_length\": self.sequence_length,\n",
        "            \"input_dim\": self.input_dim,\n",
        "        })\n",
        "        return config"
      ]
    },
    {
      "cell_type": "markdown",
      "metadata": {},
      "source": [
        "#### 텍스트 분류 트랜스포머"
      ]
    },
    {
      "cell_type": "markdown",
      "metadata": {},
      "source": [
        "**트랜스포머 인코더와 위치 임베딩 합치기**"
      ]
    },
    {
      "cell_type": "code",
      "execution_count": null,
      "metadata": {},
      "outputs": [
        {
          "name": "stdout",
          "output_type": "stream",
          "text": [
            "Model: \"model_1\"\n",
            "_________________________________________________________________\n",
            " Layer (type)                Output Shape              Param #   \n",
            "=================================================================\n",
            " input_2 (InputLayer)        [(None, None)]            0         \n",
            "                                                                 \n",
            " positional_embedding (Posi  (None, None, 256)         5273600   \n",
            " tionalEmbedding)                                                \n",
            "                                                                 \n",
            " transformer_encoder_1 (Tra  (None, None, 256)         543776    \n",
            " nsformerEncoder)                                                \n",
            "                                                                 \n",
            " global_max_pooling1d_1 (Gl  (None, 256)               0         \n",
            " obalMaxPooling1D)                                               \n",
            "                                                                 \n",
            " dropout_1 (Dropout)         (None, 256)               0         \n",
            "                                                                 \n",
            " dense_7 (Dense)             (None, 1)                 257       \n",
            "                                                                 \n",
            "=================================================================\n",
            "Total params: 5817633 (22.19 MB)\n",
            "Trainable params: 5817633 (22.19 MB)\n",
            "Non-trainable params: 0 (0.00 Byte)\n",
            "_________________________________________________________________\n",
            "Epoch 1/20\n",
            "625/625 [==============================] - 60s 93ms/step - loss: 0.5504 - accuracy: 0.7326 - val_loss: 0.3707 - val_accuracy: 0.8356\n",
            "Epoch 2/20\n",
            "625/625 [==============================] - 50s 80ms/step - loss: 0.3100 - accuracy: 0.8709 - val_loss: 0.3869 - val_accuracy: 0.8262\n",
            "Epoch 3/20\n",
            "625/625 [==============================] - 47s 74ms/step - loss: 0.2424 - accuracy: 0.9011 - val_loss: 0.3069 - val_accuracy: 0.8760\n",
            "Epoch 4/20\n",
            "625/625 [==============================] - 46s 74ms/step - loss: 0.1992 - accuracy: 0.9220 - val_loss: 0.2885 - val_accuracy: 0.8918\n",
            "Epoch 5/20\n",
            "625/625 [==============================] - 44s 71ms/step - loss: 0.1664 - accuracy: 0.9370 - val_loss: 0.3382 - val_accuracy: 0.8808\n",
            "Epoch 6/20\n",
            "625/625 [==============================] - 44s 70ms/step - loss: 0.1395 - accuracy: 0.9460 - val_loss: 0.3723 - val_accuracy: 0.8836\n",
            "Epoch 7/20\n",
            "625/625 [==============================] - 44s 70ms/step - loss: 0.1140 - accuracy: 0.9571 - val_loss: 0.4272 - val_accuracy: 0.8844\n",
            "Epoch 8/20\n",
            "625/625 [==============================] - 45s 71ms/step - loss: 0.0952 - accuracy: 0.9646 - val_loss: 0.4487 - val_accuracy: 0.8862\n",
            "Epoch 9/20\n",
            "625/625 [==============================] - 43s 69ms/step - loss: 0.0735 - accuracy: 0.9739 - val_loss: 0.4597 - val_accuracy: 0.8780\n",
            "Epoch 10/20\n",
            "625/625 [==============================] - 45s 71ms/step - loss: 0.0556 - accuracy: 0.9793 - val_loss: 0.6001 - val_accuracy: 0.8814\n",
            "Epoch 11/20\n",
            "625/625 [==============================] - 44s 71ms/step - loss: 0.0441 - accuracy: 0.9847 - val_loss: 0.6343 - val_accuracy: 0.8684\n",
            "Epoch 12/20\n",
            "625/625 [==============================] - 44s 70ms/step - loss: 0.0355 - accuracy: 0.9886 - val_loss: 0.7697 - val_accuracy: 0.8670\n",
            "Epoch 13/20\n",
            "625/625 [==============================] - 44s 70ms/step - loss: 0.0258 - accuracy: 0.9913 - val_loss: 0.7606 - val_accuracy: 0.8728\n",
            "Epoch 14/20\n",
            "625/625 [==============================] - 43s 69ms/step - loss: 0.0227 - accuracy: 0.9924 - val_loss: 0.9193 - val_accuracy: 0.8730\n",
            "Epoch 15/20\n",
            "625/625 [==============================] - 43s 69ms/step - loss: 0.0235 - accuracy: 0.9927 - val_loss: 0.9620 - val_accuracy: 0.8788\n",
            "Epoch 16/20\n",
            "625/625 [==============================] - 43s 69ms/step - loss: 0.0180 - accuracy: 0.9944 - val_loss: 1.0631 - val_accuracy: 0.8780\n",
            "Epoch 17/20\n",
            "625/625 [==============================] - 43s 69ms/step - loss: 0.0155 - accuracy: 0.9956 - val_loss: 0.9305 - val_accuracy: 0.8728\n",
            "Epoch 18/20\n",
            "625/625 [==============================] - 43s 69ms/step - loss: 0.0124 - accuracy: 0.9961 - val_loss: 0.9398 - val_accuracy: 0.8710\n",
            "Epoch 19/20\n",
            "625/625 [==============================] - 43s 69ms/step - loss: 0.0106 - accuracy: 0.9967 - val_loss: 0.9718 - val_accuracy: 0.8752\n",
            "Epoch 20/20\n",
            "625/625 [==============================] - 43s 69ms/step - loss: 0.0112 - accuracy: 0.9963 - val_loss: 1.1590 - val_accuracy: 0.8770\n",
            "782/782 [==============================] - 22s 28ms/step - loss: 0.3193 - accuracy: 0.8801\n",
            "테스트 정확도: 0.880\n"
          ]
        }
      ],
      "source": [
        "vocab_size = 20000\n",
        "sequence_length = 600\n",
        "embed_dim = 256\n",
        "num_heads = 2\n",
        "dense_dim = 32\n",
        "\n",
        "inputs = keras.Input(shape=(None,), dtype=\"int64\")\n",
        "x = PositionalEmbedding(sequence_length, vocab_size, embed_dim)(inputs)\n",
        "x = TransformerEncoder(embed_dim, dense_dim, num_heads)(x)\n",
        "x = layers.GlobalMaxPooling1D()(x)\n",
        "x = layers.Dropout(0.5)(x)\n",
        "outputs = layers.Dense(1, activation=\"sigmoid\")(x)\n",
        "model = keras.Model(inputs, outputs)\n",
        "model.compile(optimizer=\"rmsprop\",\n",
        "              loss=\"binary_crossentropy\",\n",
        "              metrics=[\"accuracy\"])\n",
        "model.summary()\n",
        "\n",
        "callbacks = [\n",
        "    keras.callbacks.ModelCheckpoint(\"full_transformer_encoder.h5\",\n",
        "                                    save_best_only=True)\n",
        "]\n",
        "model.fit(int_train_ds, validation_data=int_val_ds, epochs=20, callbacks=callbacks)\n",
        "model = keras.models.load_model(\n",
        "    \"full_transformer_encoder.h5\",\n",
        "    custom_objects={\"TransformerEncoder\": TransformerEncoder,\n",
        "                    \"PositionalEmbedding\": PositionalEmbedding})\n",
        "print(f\"테스트 정확도: {model.evaluate(int_test_ds)[1]:.3f}\")"
      ]
    }
  ],
  "metadata": {
    "accelerator": "GPU",
    "colab": {
      "name": "chapter11_part01_introduction.i",
      "provenance": []
    },
    "gpuClass": "standard",
    "kernelspec": {
      "display_name": "Python 3",
      "language": "python",
      "name": "python3"
    },
    "language_info": {
      "codemirror_mode": {
        "name": "ipython",
        "version": 3
      },
      "file_extension": ".py",
      "mimetype": "text/x-python",
      "name": "python",
      "nbconvert_exporter": "python",
      "pygments_lexer": "ipython3",
      "version": "3.12.3"
    }
  },
  "nbformat": 4,
  "nbformat_minor": 0
}
