{
  "cells": [
    {
      "cell_type": "markdown",
      "metadata": {
        "id": "_8gekvOoTMut"
      },
      "source": [
        "# 1. 합성곱 신경망 소개"
      ]
    },
    {
      "cell_type": "code",
      "execution_count": 1,
      "metadata": {
        "id": "xqlv8pjPTMuv"
      },
      "outputs": [],
      "source": [
        "## 간단한 컨브넷 만들기\n",
        "from tensorflow import keras\n",
        "from tensorflow.keras import layers\n",
        "\n",
        "inputs = keras.Input(shape=(28, 28, 1))\n",
        "x = layers.Conv2D(filters=32, kernel_size=3, activation='relu')(inputs)\n",
        "x = layers.MaxPooling2D(pool_size=2)(x)\n",
        "x = layers.Conv2D(filters=64, kernel_size=3, activation='relu')(x)\n",
        "x = layers.MaxPooling2D(pool_size=2)(x)\n",
        "x = layers.Conv2D(filters=128, kernel_size=3, activation='relu')(x)\n",
        "x = layers.Flatten()(x)\n",
        "\n",
        "outputs = layers.Dense(10, activation='softmax')(x)\n",
        "model = keras.Model(inputs=inputs, outputs=outputs)"
      ]
    },
    {
      "cell_type": "code",
      "execution_count": null,
      "metadata": {
        "id": "82QJYvzTTMuw"
      },
      "outputs": [],
      "source": [
        "model.summary()"
      ]
    },
    {
      "cell_type": "code",
      "execution_count": null,
      "metadata": {
        "id": "JlJRaAzhTMuw"
      },
      "outputs": [],
      "source": [
        "## MNIST 이미지에 컨브넷 훈련하기\n",
        "from tensorflow.keras.datasets import mnist\n",
        "\n",
        "(train_images, train_labels), (test_images, test_labels) = mnist.load_data()\n",
        "train_images = train_images.reshape((60000, 28, 28, 1))\n",
        "train_images = train_images.astype('float32') / 255\n",
        "test_images = test_images.reshape((10000, 28, 28, 1))\n",
        "test_images = test_images.astype('float32') / 255\n",
        "\n",
        "model.compile(optimizer='rmsprop',\n",
        "                loss='sparse_categorical_crossentropy',\n",
        "                metrics=['accuracy'])\n",
        "\n",
        "model.fit(train_images, train_labels, epochs=5, batch_size=64)"
      ]
    },
    {
      "cell_type": "code",
      "execution_count": null,
      "metadata": {
        "id": "NidfHGqvTMux"
      },
      "outputs": [],
      "source": [
        "## 컨브넷 평가하기\n",
        "test_loss, test_acc = model.evaluate(test_images, test_labels)\n",
        "print('test_acc:', test_acc)"
      ]
    },
    {
      "cell_type": "code",
      "execution_count": null,
      "metadata": {
        "id": "_dS-Xlu7TMux"
      },
      "outputs": [],
      "source": [
        "## 최대 풀링 층이 빠진 잘못된 구조의 컨브넷\n",
        "inputs = keras.Input(shape=(28, 28, 1))\n",
        "x = layers.Conv2D(filters=32, kernel_size=3, activation='relu')(inputs)\n",
        "x = layers.Conv2D(filters=64, kernel_size=3, activation='relu')(x)\n",
        "x = layers.Conv2D(filters=128, kernel_size=3, activation='relu')(x)\n",
        "x = layers.Flatten()(x)\n",
        "\n",
        "outputs = layers.Dense(10, activation='softmax')(x)\n",
        "model_no_max_pool = keras.Model(inputs=inputs, outputs=outputs)\n",
        "\n",
        "model_no_max_pool.summary()"
      ]
    },
    {
      "cell_type": "markdown",
      "metadata": {
        "id": "dDa2kGYNTMux"
      },
      "source": [
        "# 2. 소규모 데이터셋에서 밑바닥부터 컨브넷 훈련하기"
      ]
    },
    {
      "cell_type": "code",
      "execution_count": null,
      "metadata": {
        "id": "Pw8RxZZiTMux"
      },
      "outputs": [],
      "source": [
        "## Dogs vs Cats 데이터셋을 다운\n",
        "from google.colab import files\n",
        "files.upload()\n",
        "!mv kaggle.json ~/.kaggle/\n",
        "!chmod 600 ~/.kaggle/ kaggle.json\n",
        "!kaggle competitions download -c dogs-vs-cats\n",
        "!unzip -qq dogs-vs-cats.zip\n",
        "!unzip -qq train.zip"
      ]
    },
    {
      "cell_type": "code",
      "execution_count": null,
      "metadata": {
        "id": "leK1wpDyTMux"
      },
      "outputs": [],
      "source": [
        "## 이미지를 훈려, 검증, 테스트 폴더로 복사하기\n",
        "import os, shutil, pathlib\n",
        "\n",
        "original_dir = pathlib.Path('./dogs-vs-cats/train') ## 원본 데이터셋을 압축 해제한 디렉터리 경로\n",
        "new_base_dir = pathlib.Path('./dogs-vs-cats_small') ## 서브셋 데이터셋을 저장할 디렉터리 경로\n",
        "\n",
        "## start_idx ~ end_idx-1의 고양이 이미지를 new_base_dir/cat(or dog)으로 복사하기 위한 유틸리티 함수\n",
        "## subset_name: 'train', 'validation', 'test' 중 하나\n",
        "def make_subset(subset_name, start_idx, end_idx):\n",
        "    for category in ['cat', 'dog']:\n",
        "        dir = new_base_dir / subset_name / category\n",
        "        os.makedirs(dir)\n",
        "        fnames = [f'{category}.{i}.jpg' for i in range(start_idx, end_idx)]\n",
        "\n",
        "        for fname in fnames:\n",
        "            shutil.copyfile(original_dir / fname, dir / fname)\n",
        "\n",
        "make_subset('train', start_idx=0, end_idx=1000) ## 카테고리마다 처음 1000개의 이미지를 훈련 서브셋으로 복사\n",
        "make_subset('validation', start_idx=1000, end_idx=1500) ## 카테고리마다 그다음 500개의 이미지를 검증 서브셋으로 복사\n",
        "make_subset('test', start_idx=1500, end_idx=2000) ## 카테고리마다 그다음 1000개의 이미지를 테스트 서브셋으로 복사"
      ]
    },
    {
      "cell_type": "code",
      "execution_count": null,
      "metadata": {
        "id": "-mef36f2TMux"
      },
      "outputs": [],
      "source": [
        "## 강아지 vs 고양이 이미지 분류 컨브넷 만들기\n",
        "from tensorflow import keras\n",
        "from tensorflow.keras import layers\n",
        "\n",
        "inputs = keras.Input(shape=(180, 180, 3)) ## 이 모델은 180x180 크기의 컬러 이미지 입력을 받음\n",
        "## 입력 이미지의 픽셀 값을 [0, 1] 사이로 스케일 조정, 각 필터랑 3 채널(RGB)값을 더함\n",
        "x = layers.Rescaling(1./255)(inputs)\n",
        "x = layers.Conv2D(filters=32, kernel_size=3, activation='relu')(x)\n",
        "x = layers.MaxPooling2D(pool_size=2)(x)\n",
        "x = layers.Conv2D(filters=64, kernel_size=3, activation='relu')(x)\n",
        "x = layers.MaxPooling2D(pool_size=2)(x)\n",
        "x = layers.Conv2D(filters=128, kernel_size=3, activation='relu')(x)\n",
        "x = layers.MaxPooling2D(pool_size=2)(x)\n",
        "x = layers.Conv2D(filters=256, kernel_size=3, activation='relu')(x)\n",
        "x = layers.MaxPooling2D(pool_size=2)(x)\n",
        "x = layers.Conv2D(filters=256, kernel_size=3, activation='relu')(x)\n",
        "x = layers.Flatten()(x)\n",
        "\n",
        "outputs = layers.Dense(1, activation='sigmoid')(x) ## 이진 분류를 위한 시그모이드 활성화 함수\n",
        "model = keras.Model(inputs=inputs, outputs=outputs)\n",
        "\n",
        "## 모델의 구조를 확인\n",
        "model.summary()"
      ]
    },
    {
      "cell_type": "code",
      "execution_count": null,
      "metadata": {
        "id": "6lYn-3jtTMux"
      },
      "outputs": [],
      "source": [
        "## 모델 컴파일하기\n",
        "model.compile(optimizer='rmsprop',\n",
        "                loss='binary_crossentropy',\n",
        "                metrics=['accuracy'])"
      ]
    },
    {
      "cell_type": "code",
      "execution_count": null,
      "metadata": {
        "id": "iQMYVGcHTMux"
      },
      "outputs": [],
      "source": [
        "## image_dataset_from_directory() 함수를 사용하여 디스크에 저장된 이미지 데이터를 읽기\n",
        "from tensorflow.keras.preprocessing import image_dataset_from_directory\n",
        "\n",
        "train_dataset = image_dataset_from_directory(\n",
        "    new_base_dir / 'train',\n",
        "    image_size=(180, 180),\n",
        "    batch_size=32)\n",
        "\n",
        "validation_dataset = image_dataset_from_directory(\n",
        "    new_base_dir / 'validation',\n",
        "    image_size=(180, 180),\n",
        "    batch_size=32)\n",
        "\n",
        "test_dataset = image_dataset_from_directory(\n",
        "    new_base_dir / 'test',\n",
        "    image_size=(180, 180),\n",
        "    batch_size=32)"
      ]
    },
    {
      "cell_type": "code",
      "execution_count": null,
      "metadata": {
        "id": "RdIHaFQtTMuy"
      },
      "outputs": [],
      "source": [
        "## 데이터셋을 사용하여 모델 훈련하기\n",
        "callbacks = [ ## 이벤트를 모니터링하고 제어하는 데 사용\n",
        "    keras.callbacks.ModelCheckpoint( ## 특정 지표(val_loss)가 향상될 때 모델의 가중치를 저장\n",
        "        filepath='convent_from_scratch.keras', ## 저장할 파일명(경로는 현재 ipynb 파일이 있는 디렉터리)\n",
        "        save_best_only=True, ## True: 가장 좋은 모델만 저장, False: 모든 모델 저장\n",
        "        monitor='val_loss',)\n",
        "]\n",
        "\n",
        "history = model.fit(\n",
        "    train_dataset,\n",
        "    epochs=30,\n",
        "    validation_data=validation_dataset,\n",
        "    callbacks=callbacks)"
      ]
    },
    {
      "cell_type": "code",
      "execution_count": null,
      "metadata": {
        "id": "IWMBRHBvTMuy"
      },
      "outputs": [],
      "source": [
        "## 훈련 과정의 정확도와 손실 그래프 그리기\n",
        "import matplotlib.pyplot as plt\n",
        "\n",
        "accraucy = history.history['accuracy']\n",
        "val_accuracy = history.history['val_accuracy']\n",
        "loss = history.history['loss']\n",
        "val_loss = history.history['val_loss']\n",
        "epochs = range(1, len(accraucy) + 1)\n",
        "plt.plot(epochs, accraucy, 'bo', label='Training accraucy')\n",
        "plt.plot(epochs, val_accuracy, 'b', label='Validation accraucy')\n",
        "plt.title('Training and validation accraucy')\n",
        "plt.legend()\n",
        "plt.figure()\n",
        "\n",
        "plt.plot(epochs, loss, 'bo', label='Training loss')\n",
        "plt.plot(epochs, val_loss, 'b', label='Validation loss')\n",
        "plt.title('Training and validation loss')\n",
        "plt.legend()\n",
        "plt.show()"
      ]
    },
    {
      "cell_type": "code",
      "execution_count": null,
      "metadata": {
        "id": "aZOeXT7-TMuy"
      },
      "outputs": [],
      "source": [
        "## 테스트 세트에서 모델 평가하기\n",
        "\n",
        "## 과대적합되기 전의 상태를 평가하기 위해 저장된 파일에서 모델을 로드\n",
        "test_model = keras.models.load_model('convent_from_scratch.keras')\n",
        "test_loss, test_acc = test_model.evaluate(test_dataset)\n",
        "print(f'Test accuracy: {test_acc:3f}')"
      ]
    },
    {
      "cell_type": "code",
      "execution_count": null,
      "metadata": {
        "id": "fppPlaZlTMuy"
      },
      "outputs": [],
      "source": [
        "## 컨브넷에 추가할 데이터 증식 단계 정의하기\n",
        "data_augmentation = keras.Sequential(\n",
        "    [\n",
        "        ## 랜덤하게 50% 이미지를 수평으로 뒤집음\n",
        "        layers.RandomFlip('horizontal'),\n",
        "        ## [-10%, +10%] 범위 안에서 랜덤한 값만큼 입력 이미지를 회진 (전체 원에 대한 비율이고 각도로 나타내면 [-36,36]에 해당)\n",
        "        layers.RandomRotation(0.1),\n",
        "        ## [-20%, +20%] 범위 안에서 랜덤한 비율만큼 이미지를 확대 또는 축소\n",
        "        layers.RandomZoom(0.1),\n",
        "    ]\n",
        ")"
      ]
    },
    {
      "cell_type": "code",
      "execution_count": null,
      "metadata": {
        "id": "mVTnxwY0TMuy"
      },
      "outputs": [],
      "source": [
        "import matplotlib.pyplot as plt\n",
        "\n",
        "## 랜덤하게 증식된 훈련 이미지 출력\n",
        "plt.figure(figsize=(10, 10))\n",
        "## 첫 번째 데이터 배치 반환\n",
        "for images, _ in train_dataset.take(1):\n",
        "    for i in range(9):\n",
        "         ## 배치 이미지에 데이터 증식을 적용\n",
        "        augmented_images = data_augmentation(images)\n",
        "        ax = plt.subplot(3, 3, i + 1)\n",
        "        ## 배치 출력에서 첫 번째 이미지 출력\n",
        "        ## 갘은 이미지를 아홉 번 반복하는 동안 매법 다른 증식 결과가 나타남\n",
        "        plt.imshow(augmented_images[0].numpy().astype('uint8'))\n",
        "        plt.axis('off')"
      ]
    },
    {
      "cell_type": "code",
      "execution_count": null,
      "metadata": {
        "id": "MK5QNceLTMuy"
      },
      "outputs": [],
      "source": [
        "## 이미지 증식과 드롭아웃을 포함한 컨브넷 만들기\n",
        "inputs = keras.Input(shape=(180, 180, 3))\n",
        "x = data_augmentation(inputs)\n",
        "x = layers.Rescaling(1./255)(x)\n",
        "x = layers.Conv2D(filters=32, kernel_size=3, activation='relu')(x)\n",
        "x = layers.MaxPooling2D(pool_size=2)(x)\n",
        "x = layers.Conv2D(filters=64, kernel_size=3, activation='relu')(x)\n",
        "x = layers.MaxPooling2D(pool_size=2)(x)\n",
        "x = layers.Conv2D(filters=128, kernel_size=3, activation='relu')(x)\n",
        "x = layers.MaxPooling2D(pool_size=2)(x)\n",
        "x = layers.Conv2D(filters=256, kernel_size=3, activation='relu')(x)\n",
        "x = layers.MaxPooling2D(pool_size=2)(x)\n",
        "x = layers.Conv2D(filters=256, kernel_size=3, activation='relu')(x)\n",
        "x = layers.Flatten()(x)\n",
        "x = layers.Dropout(0.5)(x) ## 드롭아웃 추가\n",
        "\n",
        "outputs = layers.Dense(1, activation='sigmoid')(x)\n",
        "model = keras.Model(inputs=inputs, outputs=outputs)\n",
        "\n",
        "model.compile(optimizer='rmsprop',\n",
        "                loss='binary_crossentropy',\n",
        "                metrics=['accuracy'])"
      ]
    },
    {
      "cell_type": "code",
      "execution_count": null,
      "metadata": {
        "id": "hiuBJgiLTMuy"
      },
      "outputs": [],
      "source": [
        "## 규제를 추가한 컨브넷 훈련하기\n",
        "callbacks = [\n",
        "    keras.callbacks.ModelCheckpoint(\n",
        "        filepath='convnet_from_scratch_with_augmentation.keras',\n",
        "        save_best_only=True,\n",
        "        monitor='val_loss')\n",
        "]\n",
        "\n",
        "history = model.fit(\n",
        "    train_dataset,\n",
        "    epochs=100,\n",
        "    validation_data=validation_dataset,\n",
        "    callbacks=callbacks)"
      ]
    },
    {
      "cell_type": "code",
      "execution_count": null,
      "metadata": {
        "id": "eI7fIzWDUez-"
      },
      "outputs": [],
      "source": [
        "## 훈련 과정의 정확도와 손실 그래프 그리기\n",
        "import matplotlib.pyplot as plt\n",
        "\n",
        "accraucy = history.history['accuracy']\n",
        "val_accuracy = history.history['val_accuracy']\n",
        "loss = history.history['loss']\n",
        "val_loss = history.history['val_loss']\n",
        "epochs = range(1, len(accraucy) + 1)\n",
        "plt.plot(epochs, accraucy, 'bo', label='Training accraucy')\n",
        "plt.plot(epochs, val_accuracy, 'b', label='Validation accraucy')\n",
        "plt.title('Training and validation accraucy')\n",
        "plt.legend()\n",
        "plt.figure()\n",
        "\n",
        "plt.plot(epochs, loss, 'bo', label='Training loss')\n",
        "plt.plot(epochs, val_loss, 'b', label='Validation loss')\n",
        "plt.title('Training and validation loss')\n",
        "plt.legend()\n",
        "plt.show()"
      ]
    },
    {
      "cell_type": "code",
      "execution_count": null,
      "metadata": {
        "id": "dpbZ0q7le0Bw"
      },
      "outputs": [],
      "source": [
        "## 테스트 세트의 정확도를 확인해보자\n",
        "test_model = keras.models.load_model(\"convnet_from_scratch_with_augmentation.keras\")\n",
        "test_loss, test_acc = test_model.evaluate(test_dataset)\n",
        "print(f\"테스트 정확도: {test_acc:.3f}\")"
      ]
    },
    {
      "cell_type": "code",
      "execution_count": null,
      "metadata": {
        "id": "yaiOvLazjG4J"
      },
      "outputs": [],
      "source": [
        "## VGG16 합성곱 기반 층 만들기\n",
        "conv_base = keras.applications.vgg16.VGG16(\n",
        "\t\t## 모델을 초기화할 imagenet 가중치\n",
        "    weights='imagenet',\n",
        "    ## 밀집 연결 분류기를 포함 여부(true가 기본값)\n",
        "    ## 강아지와 고양이를 구분하는 밀집 연결 층을 훈련시키기 위해 imagenet 가중치는 불필요\n",
        "    include_top=False,\n",
        "    ## 네트워크에 주입할 이미지 텐서의 크기\n",
        "    ## 이 값을 지정하지 않으면 어떤 크기의 입력도 처리할 수 있음\n",
        "    input_shape=(180, 180, 3))"
      ]
    },
    {
      "cell_type": "code",
      "execution_count": null,
      "metadata": {
        "id": "HK8ODjrqovrP"
      },
      "outputs": [],
      "source": [
        "conv_base.summary()"
      ]
    },
    {
      "cell_type": "code",
      "execution_count": null,
      "metadata": {
        "id": "GF4vQDnhqJMx"
      },
      "outputs": [],
      "source": [
        "## VGG16 특성과 해당 레이블 추출\n",
        "import numpy as np\n",
        "\n",
        "def get_features_and_labels(dataset):\n",
        "    all_features = []\n",
        "    all_labels = []\n",
        "    for images, labels in dataset:\n",
        "        preprocessed_images = keras.applications.vgg16.preprocess_input(images)\n",
        "        features = conv_base(preprocessed_images)\n",
        "         ## (5, 5, 512) 목록 끝에 요소를 추가, 각 요소는 데이터 세트의 각 이미지 배치에 해당하는 기능 배열\n",
        "        all_features.append(features)\n",
        "        all_labels.append(labels)\n",
        "\n",
        "    ## (samples, 5, 5, 512): 단일 연결된 배열 - 표준화되고 편리한 표현 제공\n",
        "    return np.concatenate(all_features), np.concatenate(all_labels)"
      ]
    },
    {
      "cell_type": "code",
      "execution_count": null,
      "metadata": {
        "id": "85aZWzo0sWDb"
      },
      "outputs": [],
      "source": [
        "train_features, train_labels = get_features_and_labels(train_dataset) ## 2000\n",
        "val_features, val_labels = get_features_and_labels(validation_dataset) ## 1000\n",
        "test_features, test_labels = get_features_and_labels(test_dataset) ## 2000\n",
        "\n",
        "train_features.shape"
      ]
    },
    {
      "cell_type": "code",
      "execution_count": null,
      "metadata": {
        "id": "uctY9-L7tDzz"
      },
      "outputs": [],
      "source": [
        "## 밀집 연결 분류기 정의하고 훈련하기\n",
        "inputs = keras.Input(shape=(5,5,512))\n",
        "x = layers.Flatten()(inputs) ## Dense 층에 특성을 주입하기 전에 Flatten 층을 사용\n",
        "x = layers.Dense(256)(x)\n",
        "x = layers.Dropout(0.5)(x)\n",
        "\n",
        "outputs = layers.Dense(1, activation='sigmoid')(x)\n",
        "model = keras.Model(inputs=inputs, outputs=outputs)\n",
        "\n",
        "model.compile(optimizer='rmsprop',\n",
        "                loss='binary_crossentropy',\n",
        "                metrics=['accuracy'])\n",
        "\n",
        "callbacks = [\n",
        "    keras.callbacks.ModelCheckpoint(\n",
        "        filepath='feature_extraction.keras',\n",
        "        save_best_only=True,\n",
        "        monitor='val_loss')\n",
        "]\n",
        "\n",
        "history = model.fit(\n",
        "    train_features, train_labels,\n",
        "    epochs=20,\n",
        "    validation_data =(val_features, val_labels),\n",
        "    callbacks=callbacks)"
      ]
    },
    {
      "cell_type": "code",
      "execution_count": null,
      "metadata": {
        "id": "7nJoyoBNt8rz"
      },
      "outputs": [],
      "source": [
        "## 결과를 그래프로 나타내기\n",
        "import matplotlib.pyplot as plt\n",
        "\n",
        "acc = history.history['accuracy']\n",
        "val_acc = history.history['val_accuracy']\n",
        "loss = history.history['loss']\n",
        "val_loss = history.history['val_loss']\n",
        "epochs = range(1, len(acc) + 1)\n",
        "\n",
        "plt.plot(epochs, acc, 'bo', label='Training accuracy')\n",
        "plt.plot(epochs, val_acc, 'b', label='Validation accuracy')\n",
        "plt.title('Training and validation accuracy')\n",
        "plt.legend()\n",
        "plt.figure()\n",
        "plt.plot(epochs, loss, 'bo', label='Training loss')\n",
        "plt.plot(epochs, val_loss, 'b', label='Validation loss')\n",
        "plt.title('Training and validation loss')\n",
        "plt.legend()\n",
        "plt.show()"
      ]
    },
    {
      "cell_type": "code",
      "execution_count": null,
      "metadata": {
        "id": "xXMkt8gAuuFJ"
      },
      "outputs": [],
      "source": [
        "## VGG16 합성곱 기반 층을 만들고 동결하기\n",
        "conv_base = keras.applications.vgg16.VGG16(\n",
        "    weights='imagenet',\n",
        "    include_top=False)\n",
        "conv_base.trainable = False"
      ]
    },
    {
      "cell_type": "code",
      "execution_count": null,
      "metadata": {
        "id": "PSlNeAqM0ZKg"
      },
      "outputs": [],
      "source": [
        "## 동결하기 전과 후에 훈련 가능한 가중치 리스트 출력하기\n",
        "conv_base.trainalbe = True\n",
        "print(\"합성곱 기반 층을 동결하기 전의 훈련 가능한 가주치의 수:\", len(conv_base.trainable_weights))\n",
        "conv_base.trainable = False\n",
        "print(\"합성곱 기반 층을 동결한 후의 훈련 가능한 가주치의 수:\", len(conv_base.trainable_weights))"
      ]
    },
    {
      "cell_type": "code",
      "execution_count": null,
      "metadata": {
        "id": "-gWZ4nvH1CMr"
      },
      "outputs": [],
      "source": [
        "## 데이터 증식 단계와 밀집 분류기를 합성곱 기반 층에 추가하기\n",
        "data_augmentation = keras.Sequential(\n",
        "    [\n",
        "        layers.RandomFlip('horizontal'),\n",
        "        layers.RandomRotation(0.1),\n",
        "        layers.RandomZoom(0.1),\n",
        "    ]\n",
        ")\n",
        "\n",
        "inputs = keras.Input(shape=(180, 180, 3))\n",
        "x = data_augmentation(inputs) ## 데이터 증식을 적용\n",
        "x = keras.applications.vgg16.preprocess_input(x) ## 입력값의 스케일을 조정\n",
        "x = conv_base(x) ## 사전 훈련된 컨브넷을 적용\n",
        "x = layers.Flatten()(x)\n",
        "x = layers.Dense(256)(x)\n",
        "x = layers.Dropout(0.5)(x)\n",
        "\n",
        "outputs = layers.Dense(1, activation='sigmoid')(x)\n",
        "model = keras.Model(inputs, outputs)\n",
        "model.compile(optimizer='rmsprop',\n",
        "                loss='binary_crossentropy',\n",
        "                metrics=['accuracy'])\n",
        "\n",
        "callbacks = [\n",
        "    keras.callbacks.ModelCheckpoint(\n",
        "        filepath='feature_extraction_with_data_augmentation.keras',\n",
        "        save_best_only=True,\n",
        "        monitor='val_loss')\n",
        "]\n",
        "\n",
        "history = model.fit(\n",
        "    train_dataset,\n",
        "    epochs=50,\n",
        "    validation_data=validation_dataset,\n",
        "    callbacks=callbacks)"
      ]
    },
    {
      "cell_type": "code",
      "execution_count": null,
      "metadata": {
        "id": "ppaNjXvS23QL"
      },
      "outputs": [],
      "source": []
    },
    {
      "cell_type": "code",
      "execution_count": null,
      "metadata": {
        "id": "io2s8YJTKx9o"
      },
      "outputs": [],
      "source": [
        "## 결과를 그래프로 나타내기\n",
        "import matplotlib.pyplot as plt\n",
        "\n",
        "acc = history.history['accuracy']\n",
        "val_acc = history.history['val_accuracy']\n",
        "loss = history.history['loss']\n",
        "val_loss = history.history['val_loss']\n",
        "epochs = range(1, len(acc) + 1)\n",
        "\n",
        "plt.plot(epochs, acc, 'bo', label='Training accuracy')\n",
        "plt.plot(epochs, val_acc, 'b', label='Validation accuracy')\n",
        "plt.title('Training and validation accuracy')\n",
        "plt.legend()\n",
        "plt.figure()\n",
        "plt.plot(epochs, loss, 'bo', label='Training loss')\n",
        "plt.plot(epochs, val_loss, 'b', label='Validation loss')\n",
        "plt.title('Training and validation loss')\n",
        "plt.legend()\n",
        "plt.show()"
      ]
    },
    {
      "cell_type": "code",
      "execution_count": null,
      "metadata": {
        "id": "AaXJj8KJK9Yh"
      },
      "outputs": [],
      "source": [
        "## 테스트 세트에서 모델 평가하기\n",
        "test_model = keras.models.load_model(\n",
        "    'feature_extraction_with_data_augmentation.keras')\n",
        "test_loss, test_acc = test_model.evaluate(test_dataset)\n",
        "print(f'테스트 정확도: {test_acc:3f}')"
      ]
    },
    {
      "cell_type": "code",
      "execution_count": null,
      "metadata": {},
      "outputs": [],
      "source": [
        "## 모델 미세 조정하기\n",
        "model.compile(loss='binary_crossentropy',\n",
        "                optimizer=keras.optimizers.RMSprop(lr=1e-5),\n",
        "                metrics=['accuracy'])\n",
        "\n",
        "callbacks = [\n",
        "    keras.callbacks.ModelCheckpoint(\n",
        "        filepath='fine_tuning.h5',\n",
        "        save_best_only=True,\n",
        "        monitor='val_loss')\n",
        "]\n",
        "\n",
        "history = model.fit(\n",
        "    train_dataset,\n",
        "    epochs=30,\n",
        "    validation_data=validation_dataset,\n",
        "    callbacks=callbacks)"
      ]
    },
    {
      "cell_type": "code",
      "execution_count": null,
      "metadata": {},
      "outputs": [],
      "source": [
        "## 테스트 데이터에서 모델 평가하기\n",
        "model = keras.models.load_model('fine_tuning.h5')\n",
        "test_loss, test_acc = model.evaluate(test_dataset)\n",
        "print(f'테스트 정확도: {test_acc:.3f}')"
      ]
    }
  ],
  "metadata": {
    "accelerator": "GPU",
    "colab": {
      "gpuType": "T4",
      "provenance": []
    },
    "kernelspec": {
      "display_name": "Python 3",
      "name": "python3"
    },
    "language_info": {
      "codemirror_mode": {
        "name": "ipython",
        "version": 3
      },
      "file_extension": ".py",
      "mimetype": "text/x-python",
      "name": "python",
      "nbconvert_exporter": "python",
      "pygments_lexer": "ipython3",
      "version": "3.12.3"
    }
  },
  "nbformat": 4,
  "nbformat_minor": 0
}
