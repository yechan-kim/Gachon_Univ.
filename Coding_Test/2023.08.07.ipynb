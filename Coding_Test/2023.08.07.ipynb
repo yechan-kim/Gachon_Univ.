{
 "cells": [
  {
   "cell_type": "code",
   "execution_count": 2,
   "metadata": {},
   "outputs": [
    {
     "name": "stdout",
     "output_type": "stream",
     "text": [
      "[1, 2, 3, 3, 5, 5]\n"
     ]
    }
   ],
   "source": [
    "nums = [3,5,2,1,5,3]\n",
    "nums.sort()\n",
    "print(nums)"
   ]
  },
  {
   "cell_type": "code",
   "execution_count": 5,
   "metadata": {},
   "outputs": [
    {
     "name": "stdout",
     "output_type": "stream",
     "text": [
      "75\n",
      "0.00015616416931152344\n"
     ]
    }
   ],
   "source": [
    "import time\n",
    "start = time.time()\n",
    "a = [3,5,1,2,4]\n",
    "s=0\n",
    "for x in a:\n",
    "    for y in a:\n",
    "        s+=x\n",
    "print(s)\n",
    "end = time.time()\n",
    "print(end-start)"
   ]
  },
  {
   "cell_type": "code",
   "execution_count": 2,
   "metadata": {},
   "outputs": [
    {
     "name": "stdout",
     "output_type": "stream",
     "text": [
      "15\n",
      "0.00044798851013183594\n"
     ]
    }
   ],
   "source": [
    "import time\n",
    "start = time.time()\n",
    "a = [3,5,1,2,4]\n",
    "s=0\n",
    "for x in a:\n",
    "    s+=x\n",
    "print(s)\n",
    "end = time.time()\n",
    "print(end-start)"
   ]
  },
  {
   "cell_type": "code",
   "execution_count": 13,
   "metadata": {},
   "outputs": [
    {
     "name": "stdout",
     "output_type": "stream",
     "text": [
      "0.010526895523071289\n",
      "0.0036013126373291016\n"
     ]
    }
   ],
   "source": [
    "# 리스트 컴프리헨션\n",
    "# 미사용시\n",
    "arr = []\n",
    "start = time.time()\n",
    "for i in range(100000):\n",
    "    arr.append(0)\n",
    "end = time.time()\n",
    "print(end-start)\n",
    "\n",
    "# 사용시\n",
    "start = time.time()\n",
    "arr = [0 for i in range(100000)]\n",
    "end = time.time()\n",
    "print(end-start)"
   ]
  },
  {
   "cell_type": "code",
   "execution_count": 6,
   "metadata": {},
   "outputs": [
    {
     "name": "stdout",
     "output_type": "stream",
     "text": [
      "[[0, 0, 0, 0, 0, 0, 0, 0, 0, 0], [0, 0, 0, 0, 0, 0, 0, 0, 0, 0], [0, 0, 0, 0, 0, 0, 0, 0, 0, 0], [0, 0, 0, 0, 0, 0, 0, 0, 0, 0], [0, 0, 0, 0, 0, 0, 0, 0, 0, 0], [0, 0, 0, 0, 0, 0, 0, 0, 0, 0], [0, 0, 0, 0, 0, 0, 0, 0, 0, 0], [0, 0, 0, 0, 0, 0, 0, 0, 0, 0], [0, 0, 0, 0, 0, 0, 0, 0, 0, 0], [0, 0, 0, 0, 0, 0, 0, 0, 0, 0]]\n",
      "0.0004341602325439453\n",
      "[[0, 0, 0, 0, 0, 0, 0, 0, 0, 0], [0, 0, 0, 0, 0, 0, 0, 0, 0, 0], [0, 0, 0, 0, 0, 0, 0, 0, 0, 0], [0, 0, 0, 0, 0, 0, 0, 0, 0, 0], [0, 0, 0, 0, 0, 0, 0, 0, 0, 0], [0, 0, 0, 0, 0, 0, 0, 0, 0, 0], [0, 0, 0, 0, 0, 0, 0, 0, 0, 0], [0, 0, 0, 0, 0, 0, 0, 0, 0, 0], [0, 0, 0, 0, 0, 0, 0, 0, 0, 0], [0, 0, 0, 0, 0, 0, 0, 0, 0, 0]]\n",
      "0.00014019012451171875\n"
     ]
    }
   ],
   "source": [
    "# 2차원 배열 초기화\n",
    "temp = []\n",
    "arr=[]\n",
    "start =time.time()\n",
    "for i in range(10):\n",
    "    temp = [] # temp를 초기화 해줘야함 => 안그러면 temp에 계속 값이 쌓임\n",
    "    for j in range(10):\n",
    "        temp.append(0)\n",
    "    arr.append(temp)\n",
    "print(arr)\n",
    "print(time.time()-start)\n",
    "\n",
    "start =time.time()\n",
    "arr = [[0 for _ in range(10)] for _ in range(10)] # 단순 반복을 위한 것이면 _를 사용\n",
    "print(arr)\n",
    "print(time.time()-start)"
   ]
  },
  {
   "cell_type": "code",
   "execution_count": 11,
   "metadata": {},
   "outputs": [
    {
     "name": "stdout",
     "output_type": "stream",
     "text": [
      "[1, 3, 5, 7, 9, 11, 13, 15, 17, 19]\n",
      "0.00043392181396484375\n",
      "[1, 3, 5, 7, 9, 11, 13, 15, 17, 19]\n",
      "0.0001537799835205078\n"
     ]
    }
   ],
   "source": [
    "arr = []\n",
    "start =time.time()\n",
    "for i in range (20):\n",
    "    if(i%2!=0):\n",
    "        arr.append(i)\n",
    "print(arr)\n",
    "print(time.time()-start)\n",
    "\n",
    "start =time.time()\n",
    "arr = [i for i in range(20) if i%2!=0]\n",
    "print(arr)\n",
    "print(time.time()-start)"
   ]
  },
  {
   "cell_type": "code",
   "execution_count": 12,
   "metadata": {},
   "outputs": [
    {
     "name": "stdout",
     "output_type": "stream",
     "text": [
      "{1, 2, 3, 4, 5, 6, 7}\n",
      "{3, 4, 5}\n",
      "{1, 2}\n"
     ]
    }
   ],
   "source": [
    "a = set([1,2,3,4,5])\n",
    "b = set([3,4,5,6,7])\n",
    "\n",
    "#합집합\n",
    "print(a|b) # {1, 2, 3, 4, 5, 6, 7}\n",
    "\n",
    "#교집합\n",
    "print(a&b) # {3, 4, 5}\n",
    "\n",
    "#차집합\n",
    "print(a-b) # {1, 2}"
   ]
  },
  {
   "cell_type": "code",
   "execution_count": 13,
   "metadata": {},
   "outputs": [
    {
     "name": "stdout",
     "output_type": "stream",
     "text": [
      "{1, 2, 3}\n",
      "{1, 2, 3, 4}\n",
      "{1, 2, 3, 4, 5, 6}\n",
      "{1, 2, 4, 5, 6}\n"
     ]
    }
   ],
   "source": [
    "a = set([1,2,3])\n",
    "print(a)\n",
    "\n",
    "a.add(4)\n",
    "print(a)\n",
    "\n",
    "a.update([5,6])\n",
    "print(a)\n",
    "\n",
    "a.remove(3)\n",
    "print(a)"
   ]
  },
  {
   "cell_type": "code",
   "execution_count": 15,
   "metadata": {},
   "outputs": [
    {
     "name": "stdout",
     "output_type": "stream",
     "text": [
      "10 20 30\n"
     ]
    }
   ],
   "source": [
    "a,b,c = map(int,input(\"입력 : \").split('/'))\n",
    "\n",
    "print(a,b,c)"
   ]
  },
  {
   "cell_type": "code",
   "execution_count": 20,
   "metadata": {},
   "outputs": [
    {
     "name": "stdout",
     "output_type": "stream",
     "text": [
      "[10, 30, 20]\n",
      "[10, 20, 30]\n",
      "[30, 20, 10]\n"
     ]
    }
   ],
   "source": [
    "data = list(map(int, input(\"입력 : \").split()))\n",
    "print(data)\n",
    "data.sort() # 오름차순 정렬\n",
    "data.sort(reverse=True) # 내림차순 정렬\n",
    "print(data)\n",
    "data.reverse() # 리스트 뒤집기\n",
    "print(data)"
   ]
  },
  {
   "cell_type": "code",
   "execution_count": 26,
   "metadata": {},
   "outputs": [
    {
     "name": "stdout",
     "output_type": "stream",
     "text": [
      "6\n"
     ]
    }
   ],
   "source": [
    "# lambda 함수\n",
    "print((lambda x,y,z: x+y+z)(1,2,3))"
   ]
  },
  {
   "cell_type": "code",
   "execution_count": 37,
   "metadata": {},
   "outputs": [
    {
     "name": "stdout",
     "output_type": "stream",
     "text": [
      "[('무당이', 18), ('김가천', 32), ('홍길동', 50)]\n",
      "[('김가천', 32), ('무당이', 18), ('홍길동', 50)]\n"
     ]
    }
   ],
   "source": [
    "d1 = [('홍길동', 50),('김가천',32),('무당이',18)]\n",
    "\n",
    "def f1(x):\n",
    "    return x[1] # x[1]은 나이, x[0]은 이름\n",
    "\n",
    "print(sorted(d1, key=f1))\n",
    "\n",
    "# lambda 함수를 이용한 정렬\n",
    "print(sorted(d1, key=lambda x:x[0]))"
   ]
  },
  {
   "cell_type": "code",
   "execution_count": 58,
   "metadata": {},
   "outputs": [
    {
     "name": "stdout",
     "output_type": "stream",
     "text": [
      "[7, 9, 11, 13, 15]\n",
      "[7, 9, 11, 13, 15]\n",
      "[7, 9, 11, 13, 15]\n",
      "[1, 2, 3, 4, 5, 6, 7, 8, 9, 10]\n"
     ]
    }
   ],
   "source": [
    "list1 = [1,2,3,4,5]\n",
    "list2 = [6,7,8,9,10]\n",
    "sum_list = []\n",
    "for i in range(len(list1)):\n",
    "    sum_list.append(list1[i] + list2[i])\n",
    "print(sum_list)\n",
    "\n",
    "sum_list = [list1[i] + list2[i] for i in range(len(list1))]\n",
    "print(sum_list)\n",
    "\n",
    "sum_list = list(map(lambda x,y: x+y, list1, list2))\n",
    "print(sum_list)\n",
    "\n",
    "print((lambda x,y: x+y)(list1, list2))"
   ]
  },
  {
   "cell_type": "code",
   "execution_count": 59,
   "metadata": {},
   "outputs": [
    {
     "name": "stdout",
     "output_type": "stream",
     "text": [
      "15\n"
     ]
    }
   ],
   "source": [
    "print(sum([1,2,3,4,5]))"
   ]
  },
  {
   "cell_type": "code",
   "execution_count": 60,
   "metadata": {},
   "outputs": [
    {
     "name": "stdout",
     "output_type": "stream",
     "text": [
      "72\n"
     ]
    }
   ],
   "source": [
    "print(eval(\"(3+5)*9\"))"
   ]
  },
  {
   "cell_type": "code",
   "execution_count": 11,
   "metadata": {},
   "outputs": [
    {
     "name": "stdout",
     "output_type": "stream",
     "text": [
      "500: 20000 개\n",
      "100: 4 개\n",
      "50: 1 개\n",
      "10: 4 개\n",
      "총: 20009 개\n",
      "time : 0.0003662109375\n"
     ]
    }
   ],
   "source": [
    "import time\n",
    "N = int(input())\n",
    "start = time.time()\n",
    "if N % 10 != 0:\n",
    "    print(\"ERROR\")\n",
    "    exit()\n",
    "else:\n",
    "    R_500 = N // 500\n",
    "    N %= 500\n",
    "    R_100 = N // 100\n",
    "    N %= 100\n",
    "    R_50 = N // 50\n",
    "    N %= 50\n",
    "    R_10 = N // 10\n",
    "    print(\"500:\",R_500,\"개\")\n",
    "    print(\"100:\",R_100,\"개\")\n",
    "    print(\"50:\",R_50,\"개\")\n",
    "    print(\"10:\",R_10,\"개\")\n",
    "    print(\"총:\",R_500+R_100+R_50+R_10,\"개\")\n",
    "print(\"time :\", time.time() - start)"
   ]
  },
  {
   "cell_type": "code",
   "execution_count": 24,
   "metadata": {},
   "outputs": [
    {
     "name": "stdout",
     "output_type": "stream",
     "text": [
      "[('A', 'B'), ('A', 'C'), ('B', 'A'), ('B', 'C'), ('C', 'A'), ('C', 'B')]\n",
      "[('A', 'B'), ('A', 'C'), ('B', 'C')]\n",
      "[('A', 'A'), ('A', 'B'), ('A', 'C'), ('B', 'A'), ('B', 'B'), ('B', 'C'), ('C', 'A'), ('C', 'B'), ('C', 'C')]\n",
      "[('A', 'A'), ('A', 'B'), ('A', 'C'), ('B', 'B'), ('B', 'C'), ('C', 'C')]\n"
     ]
    }
   ],
   "source": [
    "import itertools\n",
    "\n",
    "# from itertools import permutations # 순열\n",
    "# from itertools import combinations # 조합\n",
    "data = ['A', 'B', 'C']\n",
    "\n",
    "print(list(itertools.permutations(data, 2)))\n",
    "print(list(itertools.combinations(data, 2)))\n",
    "print(list(itertools.product(data, repeat=2))) # 중복 순열\n",
    "print(list(itertools.combinations_with_replacement(data, 2))) # 중복 조합"
   ]
  },
  {
   "cell_type": "code",
   "execution_count": 25,
   "metadata": {},
   "outputs": [
    {
     "name": "stdout",
     "output_type": "stream",
     "text": [
      "[(2, 2), (2, 2), (2, 2), (2, 2), (2, 2), (2, 2), (2, 2), (2, 2), (2, 2)]\n"
     ]
    }
   ],
   "source": [
    "import itertools\n",
    "data = list(map(int, input().split()))\n",
    "print(list(itertools.product(data, repeat=2)))"
   ]
  },
  {
   "cell_type": "code",
   "execution_count": 32,
   "metadata": {},
   "outputs": [
    {
     "name": "stdout",
     "output_type": "stream",
     "text": [
      "[(0, 0, 0), (0, 0, 1), (0, 1, 0), (0, 1, 1), (1, 0, 0), (1, 0, 1), (1, 1, 0), (1, 1, 1)]\n",
      "8\n"
     ]
    }
   ],
   "source": [
    "#solution for https://codeup.kr/problem.php?id=1084\n",
    "import itertools\n",
    "data = list(map(int, input().split()))\n",
    "result = list(itertools.product(*[range(0, i) for i in data]))\n",
    "print(result)\n",
    "print(len(result))"
   ]
  },
  {
   "cell_type": "code",
   "execution_count": 36,
   "metadata": {},
   "outputs": [
    {
     "name": "stdout",
     "output_type": "stream",
     "text": [
      "2\n",
      "Counter({'red': 3, 'blue': 2, 'green': 1})\n"
     ]
    }
   ],
   "source": [
    "from collections import Counter\n",
    "\n",
    "cnt = Counter(['red', 'blue', 'red', 'green', 'red', 'blue'])\n",
    "print(cnt['blue'])\n",
    "\n",
    "print(cnt)"
   ]
  },
  {
   "cell_type": "code",
   "execution_count": null,
   "metadata": {},
   "outputs": [],
   "source": []
  }
 ],
 "metadata": {
  "kernelspec": {
   "display_name": "Python 3",
   "language": "python",
   "name": "python3"
  },
  "language_info": {
   "codemirror_mode": {
    "name": "ipython",
    "version": 3
   },
   "file_extension": ".py",
   "mimetype": "text/x-python",
   "name": "python",
   "nbconvert_exporter": "python",
   "pygments_lexer": "ipython3",
   "version": "3.10.12"
  },
  "orig_nbformat": 4
 },
 "nbformat": 4,
 "nbformat_minor": 2
}
