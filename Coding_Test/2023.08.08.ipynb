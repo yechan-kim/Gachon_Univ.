{
 "cells": [
  {
   "cell_type": "code",
   "execution_count": 3,
   "metadata": {},
   "outputs": [
    {
     "name": "stdout",
     "output_type": "stream",
     "text": [
      "6\n",
      "36\n"
     ]
    }
   ],
   "source": [
    "import math\n",
    "print(math.gcd(12,18)) # 최대공약수\n",
    "print(math.lcm(12,18)) # 최소공배수"
   ]
  },
  {
   "cell_type": "code",
   "execution_count": 5,
   "metadata": {},
   "outputs": [
    {
     "name": "stdout",
     "output_type": "stream",
     "text": [
      "6\n"
     ]
    }
   ],
   "source": [
    "cnt=0\n",
    "N,K=map(int,input().split())\n",
    "while(N!=1):\n",
    "    if(N%K==0):\n",
    "        N=N//K\n",
    "    else:\n",
    "        N-=1\n",
    "    cnt+=1\n",
    "print(cnt)"
   ]
  },
  {
   "cell_type": "code",
   "execution_count": 1,
   "metadata": {},
   "outputs": [
    {
     "ename": "ValueError",
     "evalue": "not enough values to unpack (expected 2, got 0)",
     "output_type": "error",
     "traceback": [
      "\u001b[0;31m---------------------------------------------------------------------------\u001b[0m",
      "\u001b[0;31mValueError\u001b[0m                                Traceback (most recent call last)",
      "Cell \u001b[0;32mIn[1], line 2\u001b[0m\n\u001b[1;32m      1\u001b[0m cnt\u001b[39m=\u001b[39m\u001b[39m0\u001b[39m\n\u001b[0;32m----> 2\u001b[0m N,K\u001b[39m=\u001b[39m\u001b[39mmap\u001b[39m(\u001b[39mint\u001b[39m,\u001b[39minput\u001b[39m()\u001b[39m.\u001b[39msplit())\n\u001b[1;32m      3\u001b[0m \u001b[39mwhile\u001b[39;00m \u001b[39mTrue\u001b[39;00m:\n\u001b[1;32m      4\u001b[0m     \u001b[39mif\u001b[39;00m(N\u001b[39m%\u001b[39mK\u001b[39m==\u001b[39m\u001b[39m0\u001b[39m):\n",
      "\u001b[0;31mValueError\u001b[0m: not enough values to unpack (expected 2, got 0)"
     ]
    }
   ],
   "source": [
    "cnt=0\n",
    "N,K=map(int,input().split())\n",
    "while True:\n",
    "    if(N%K==0):\n",
    "        N=N//K\n",
    "    else:\n",
    "        N-=1\n",
    "    cnt+=1\n",
    "    if(N==1):\n",
    "        print(cnt)\n",
    "        break"
   ]
  },
  {
   "cell_type": "code",
   "execution_count": 8,
   "metadata": {},
   "outputs": [
    {
     "name": "stdout",
     "output_type": "stream",
     "text": [
      "0\n",
      "1\n",
      "2\n",
      "3\n",
      "6\n",
      "5\n"
     ]
    }
   ],
   "source": [
    "lis=input()\n",
    "lis=list(lis)\n",
    "for i in range(len(lis)):\n",
    "    print(lis[i])"
   ]
  },
  {
   "cell_type": "code",
   "execution_count": 22,
   "metadata": {},
   "outputs": [
    {
     "name": "stdout",
     "output_type": "stream",
     "text": [
      "210\n"
     ]
    }
   ],
   "source": [
    "lis=list(map(int,input()))\n",
    "result=0\n",
    "for i in range(lis):\n",
    "    if i<2 or result==0:\n",
    "        result+=i\n",
    "    else:\n",
    "        result*=i\n",
    "print(result)"
   ]
  },
  {
   "cell_type": "code",
   "execution_count": 23,
   "metadata": {},
   "outputs": [
    {
     "name": "stdout",
     "output_type": "stream",
     "text": [
      "2\n"
     ]
    }
   ],
   "source": [
    "N = int(input())\n",
    "X = list(map(int, input().split()))\n",
    "X.sort()\n",
    "\n",
    "group = 0\n",
    "group_size = 0\n",
    "\n",
    "for i in X:\n",
    "    group_size += 1\n",
    "    if group_size >= i:\n",
    "        group += 1\n",
    "        group_size = 0\n",
    "\n",
    "print(group)"
   ]
  },
  {
   "cell_type": "code",
   "execution_count": 32,
   "metadata": {},
   "outputs": [
    {
     "name": "stdout",
     "output_type": "stream",
     "text": [
      "2\n",
      "6.484130620956421\n",
      "2\n",
      "6.175925970077515\n"
     ]
    }
   ],
   "source": [
    "import time\n",
    "start = time.time()\n",
    "N, M = map(int, input().split())\n",
    "\n",
    "min_arr = []\n",
    "for _ in range(N):\n",
    "    row = list(map(int, input().split()))\n",
    "    min_arr.append(min(row)) \n",
    "\n",
    "result = max(min_arr) \n",
    "print(result)\n",
    "end = time.time()\n",
    "print(end - start)\n",
    "\n",
    "start = time.time()\n",
    "N, M = map(int, input().split())\n",
    "\n",
    "min_arr = []\n",
    "for _ in range(N):\n",
    "    row = list(map(int, input().split()))\n",
    "    min_arr.append(min(row)) \n",
    "\n",
    "result = max(min_arr) \n",
    "print(result)\n",
    "end = time.time()\n",
    "print(end - start)"
   ]
  },
  {
   "cell_type": "code",
   "execution_count": 34,
   "metadata": {},
   "outputs": [
    {
     "name": "stdout",
     "output_type": "stream",
     "text": [
      "2\n"
     ]
    }
   ],
   "source": [
    "N, M = map(int, input().split())\n",
    "max_r  = 0\n",
    "\n",
    "for i in range(N):\n",
    "    temp = list(map(int, input().split()))\n",
    "    r = (min(temp))\n",
    "    max_r = max(r, max_r)\n",
    "\n",
    "print(max_r)"
   ]
  },
  {
   "cell_type": "code",
   "execution_count": 36,
   "metadata": {},
   "outputs": [
    {
     "name": "stdout",
     "output_type": "stream",
     "text": [
      "1 재귀함수\n",
      "2 재귀함수\n",
      "3 재귀함수\n",
      "4 재귀함수\n",
      "5 재귀함수\n",
      "6 재귀함수\n",
      "7 재귀함수\n",
      "8 재귀함수\n",
      "9 재귀함수\n"
     ]
    }
   ],
   "source": [
    "def f1(n):\n",
    "    if n>= 10:\n",
    "        return\n",
    "    print(n, \"재귀함수\")\n",
    "    f1(n+1)\n",
    "\n",
    "f1(1)"
   ]
  },
  {
   "cell_type": "code",
   "execution_count": 40,
   "metadata": {},
   "outputs": [
    {
     "name": "stdout",
     "output_type": "stream",
     "text": [
      "120\n"
     ]
    }
   ],
   "source": [
    "def factorial(n):\n",
    "    if n == 1:\n",
    "        return 1\n",
    "    return n * factorial(n-1)\n",
    "\n",
    "print(factorial(5))"
   ]
  },
  {
   "cell_type": "code",
   "execution_count": 1,
   "metadata": {},
   "outputs": [
    {
     "name": "stdout",
     "output_type": "stream",
     "text": [
      "3 4\n"
     ]
    }
   ],
   "source": [
    "N = int(input())\n",
    "A = list(map(str, input().split()))\n",
    "MAX=N\n",
    "MIN=1\n",
    "point = [1,1]\n",
    "\n",
    "for i in range(len(A)):\n",
    "    if A[i] =='R':\n",
    "        if point[1] < MAX:\n",
    "            point[1] += 1\n",
    "        else:\n",
    "            continue\n",
    "    elif A[i] =='L':\n",
    "        if point[1] > MIN:\n",
    "            point[1] -= 1\n",
    "        else:\n",
    "            continue\n",
    "    elif A[i] =='U':\n",
    "        if point[0] > MIN:\n",
    "            point[0] -= 1\n",
    "        else:\n",
    "            continue\n",
    "    elif A[i] =='D':\n",
    "        if point[0] < MAX:\n",
    "            point[0] += 1\n",
    "        else:\n",
    "            continue\n",
    "    else:\n",
    "        print(\"error\")\n",
    "        break\n",
    "\n",
    "print(point[0], point[1])"
   ]
  },
  {
   "cell_type": "code",
   "execution_count": null,
   "metadata": {},
   "outputs": [],
   "source": []
  }
 ],
 "metadata": {
  "kernelspec": {
   "display_name": "Python 3",
   "language": "python",
   "name": "python3"
  },
  "language_info": {
   "codemirror_mode": {
    "name": "ipython",
    "version": 3
   },
   "file_extension": ".py",
   "mimetype": "text/x-python",
   "name": "python",
   "nbconvert_exporter": "python",
   "pygments_lexer": "ipython3",
   "version": "3.10.6"
  },
  "orig_nbformat": 4
 },
 "nbformat": 4,
 "nbformat_minor": 2
}
