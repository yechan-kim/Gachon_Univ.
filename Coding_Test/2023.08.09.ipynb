{
 "cells": [
  {
   "cell_type": "code",
   "execution_count": 3,
   "metadata": {},
   "outputs": [
    {
     "name": "stdout",
     "output_type": "stream",
     "text": [
      "0\n",
      "1\n",
      "2\n",
      "3\n",
      "4\n",
      "0\n",
      "1\n",
      "2\n",
      "3\n",
      "4\n"
     ]
    }
   ],
   "source": [
    "for i in range(10):\n",
    "    print(i%5)"
   ]
  },
  {
   "cell_type": "code",
   "execution_count": 5,
   "metadata": {},
   "outputs": [
    {
     "name": "stdout",
     "output_type": "stream",
     "text": [
      "97\n"
     ]
    }
   ],
   "source": [
    "s = input()\n",
    "print(ord(s))"
   ]
  },
  {
   "cell_type": "code",
   "execution_count": 13,
   "metadata": {},
   "outputs": [
    {
     "name": "stdout",
     "output_type": "stream",
     "text": [
      "a  :  97\n",
      "b\n"
     ]
    }
   ],
   "source": [
    "s = input()\n",
    "s1 = ord(s)\n",
    "print(s,\" : \",s1)\n",
    "\n",
    "s2 = s1 + 1\n",
    "print(chr(s2))"
   ]
  },
  {
   "cell_type": "code",
   "execution_count": 11,
   "metadata": {},
   "outputs": [
    {
     "name": "stdout",
     "output_type": "stream",
     "text": [
      "a b c d e f g h i j k l m n o p q r s t u v w x y z "
     ]
    }
   ],
   "source": [
    "i=ord('a')\n",
    "while(True):\n",
    "    print(chr(i), end=' ')\n",
    "    i += 1\n",
    "    if i > ord('z'):\n",
    "        break"
   ]
  },
  {
   "cell_type": "code",
   "execution_count": 14,
   "metadata": {},
   "outputs": [
    {
     "name": "stdout",
     "output_type": "stream",
     "text": [
      "t\n"
     ]
    }
   ],
   "source": [
    "i=ord(input())\n",
    "if i==122:\n",
    "    print('a')\n",
    "else:\n",
    "    print(chr(i+1))"
   ]
  },
  {
   "cell_type": "code",
   "execution_count": 17,
   "metadata": {},
   "outputs": [
    {
     "name": "stdout",
     "output_type": "stream",
     "text": [
      "['a', 'b', 'c', 'd', 'e', 'f']\n",
      "abcdef\n",
      "a_b_c_d_e_f\n",
      "a b c d e f\n"
     ]
    }
   ],
   "source": [
    "a = ['a','b','c']\n",
    "b = ['d','e','f']\n",
    "\n",
    "print(a+b)\n",
    "print(''.join(a+b))\n",
    "print('_'.join(a+b))\n",
    "print(' '.join(a+b))"
   ]
  },
  {
   "cell_type": "code",
   "execution_count": 6,
   "metadata": {},
   "outputs": [
    {
     "name": "stdout",
     "output_type": "stream",
     "text": [
      "Cc*d\n"
     ]
    }
   ],
   "source": [
    "ori = str(input())\n",
    "list_ori = list(ori)\n",
    "key = int(input())\n",
    "for i in range(len(list_ori)):\n",
    "    if ord(list_ori[i]) + key >= ord('A') and ord(list_ori[i]) + key < ord('a') or ord(list_ori[i]) + key > ord('z'):\n",
    "        list_ori[i] = chr(ord(list_ori[i]) + key - 26)\n",
    "    else:\n",
    "        list_ori[i] = chr(ord(list_ori[i]) + key)\n",
    "print(''.join(list_ori))"
   ]
  },
  {
   "cell_type": "code",
   "execution_count": 12,
   "metadata": {},
   "outputs": [
    {
     "name": "stdout",
     "output_type": "stream",
     "text": [
      "CcDd\n"
     ]
    }
   ],
   "source": [
    "def passwd(list_ori, key):\n",
    "    result = []\n",
    "\n",
    "    for char in list_ori:\n",
    "        if char.isalpha():\n",
    "            if char.isupper():\n",
    "                new_char = chr(((ord(char) - ord('A') + key) % 26) + ord('A'))\n",
    "            else:\n",
    "                new_char = chr(((ord(char) - ord('a') + key) % 26) + ord('a'))\n",
    "        else:\n",
    "            new_char = char\n",
    "        result.append(new_char)\n",
    "\n",
    "    return result\n",
    "\n",
    "ori = input() \n",
    "list_ori = list(ori)\n",
    "key = int(input())\n",
    "\n",
    "print(''.join(passwd(list_ori, key)))"
   ]
  },
  {
   "cell_type": "code",
   "execution_count": 20,
   "metadata": {},
   "outputs": [
    {
     "name": "stdout",
     "output_type": "stream",
     "text": [
      "2 5\n",
      "6\n"
     ]
    }
   ],
   "source": [
    "def point_cnt(X, Y):\n",
    "    cnt = 0\n",
    "\n",
    "    if X - 2 >= 1:\n",
    "        if Y - 1 >= 1:\n",
    "            cnt += 1\n",
    "        if Y + 1 <= 8:\n",
    "            cnt += 1\n",
    "\n",
    "    if X + 2 <= 8:\n",
    "        if Y - 1 >= 1:\n",
    "            cnt += 1\n",
    "        if Y + 1 <= 8:\n",
    "            cnt += 1\n",
    "\n",
    "    if Y - 2 >= 1:\n",
    "        if X - 1 >= 1:\n",
    "            cnt += 1\n",
    "        if X + 1 <= 8:\n",
    "            cnt += 1\n",
    "\n",
    "    if Y + 2 <= 8:\n",
    "        if X - 1 >= 1:\n",
    "            cnt += 1\n",
    "        if X + 1 <= 8:\n",
    "            cnt += 1\n",
    "\n",
    "    return cnt\n",
    "\n",
    "position = input()\n",
    "if(len(position) != 2 or position[0] < 'a' or position[0] > 'h' or position[1] < '1' or position[1] > '8'):\n",
    "    print(\"Error\")\n",
    "    exit(1)\n",
    "else:\n",
    "    X = ord(position[0]) - ord('a') + 1 # a => 1\n",
    "    Y = int(position[1])\n",
    "    print(point_cnt(X, Y))"
   ]
  },
  {
   "cell_type": "code",
   "execution_count": 23,
   "metadata": {},
   "outputs": [
    {
     "name": "stdout",
     "output_type": "stream",
     "text": [
      "ABCKK13\n"
     ]
    }
   ],
   "source": [
    "def solution(inp):\n",
    "    ans = []\n",
    "    num=0\n",
    "\n",
    "    for i in inp:\n",
    "        if i.isalpha():\n",
    "            ans.append(i)\n",
    "        elif i.isdigit():\n",
    "            num+=int(i)\n",
    "\n",
    "    ans.sort()\n",
    "    ans.append(str(num))\n",
    "    return ''.join(ans)\n",
    "\n",
    "inp = input()\n",
    "print(solution(inp))"
   ]
  },
  {
   "cell_type": "code",
   "execution_count": 24,
   "metadata": {},
   "outputs": [
    {
     "name": "stdout",
     "output_type": "stream",
     "text": [
      "a b c d e f g h i j k l m n o p q r s t u v w x y z "
     ]
    }
   ],
   "source": [
    "for i in range(ord('a'), ord('z')+1):\n",
    "    print(chr(i), end=' ')"
   ]
  },
  {
   "cell_type": "code",
   "execution_count": null,
   "metadata": {},
   "outputs": [],
   "source": []
  }
 ],
 "metadata": {
  "kernelspec": {
   "display_name": "Python 3",
   "language": "python",
   "name": "python3"
  },
  "language_info": {
   "codemirror_mode": {
    "name": "ipython",
    "version": 3
   },
   "file_extension": ".py",
   "mimetype": "text/x-python",
   "name": "python",
   "nbconvert_exporter": "python",
   "pygments_lexer": "ipython3",
   "version": "3.10.12"
  },
  "orig_nbformat": 4
 },
 "nbformat": 4,
 "nbformat_minor": 2
}
