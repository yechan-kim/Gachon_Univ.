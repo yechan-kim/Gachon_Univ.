{
 "cells": [
  {
   "cell_type": "code",
   "execution_count": 2,
   "metadata": {},
   "outputs": [
    {
     "name": "stdout",
     "output_type": "stream",
     "text": [
      "1\n",
      "3\n",
      "4\n",
      "5\n",
      "2\n",
      "7\n",
      "6\n",
      "8\n"
     ]
    }
   ],
   "source": [
    "def dfs(graph, v, visited):\n",
    "    visited[v] = True\n",
    "    print(v)\n",
    "    for i in graph[v]:\n",
    "        if not visited[i]:\n",
    "            dfs(graph, i, visited)\n",
    "\n",
    "graph = [\n",
    "    [],\n",
    "    [3, 2, 8],\n",
    "    [1, 7],\n",
    "    [1, 4, 5],\n",
    "    [3, 5],\n",
    "    [3, 4],\n",
    "    [7],\n",
    "    [2, 6, 8],\n",
    "    [1, 7]\n",
    "]\n",
    "\n",
    "visited = [False] * 9\n",
    "dfs(graph, 1, visited)\n"
   ]
  },
  {
   "cell_type": "code",
   "execution_count": 11,
   "metadata": {},
   "outputs": [
    {
     "name": "stdout",
     "output_type": "stream",
     "text": [
      "[[0, 0, 1, 1, 0], [0, 0, 0, 1, 1], [1, 1, 1, 1, 1], [0, 0, 0, 0, 0]]\n",
      "3\n"
     ]
    }
   ],
   "source": [
    "def dfs(x, y):\n",
    "    if x <= -1 or x >= N or y <= -1 or y >= M:\n",
    "        return False\n",
    "    if graph[x][y] == 0:\n",
    "        graph[x][y] = 1\n",
    "        dfs(x, y - 1)\n",
    "        dfs(x, y + 1)\n",
    "        dfs(x - 1, y)\n",
    "        dfs(x + 1, y)\n",
    "        return True\n",
    "    return False\n",
    "\n",
    "N, M = map(int, input().split())\n",
    "graph = []\n",
    "for i in range(N):\n",
    "    graph.append(list(map(int, input())))\n",
    "ice = 0\n",
    "\n",
    "for i in range(N):\n",
    "    for j in range(M):\n",
    "        if dfs(i, j) == True:\n",
    "            ice += 1\n",
    "\n",
    "print(ice)"
   ]
  },
  {
   "cell_type": "code",
   "execution_count": 14,
   "metadata": {},
   "outputs": [
    {
     "name": "stdout",
     "output_type": "stream",
     "text": [
      "[0, 1, 2, 3, 4, 5, 6, 7, 8, 9]\n",
      "0.0002617835998535156\n"
     ]
    }
   ],
   "source": [
    "# 선택정렬\n",
    "import time\n",
    "\n",
    "start = time.time()\n",
    "\n",
    "array = [7,5,9,0,3,1,6,2,4,8]\n",
    "\n",
    "for i in range(len(array)):\n",
    "    for j in range(i, 0, -1):\n",
    "        if array[j] < array[j-1]:\n",
    "            array[j], array[j-1] = array[j-1], array[j] # swap\n",
    "        else:\n",
    "            break\n",
    "print(array)\n",
    "\n",
    "print(time.time()-start)"
   ]
  },
  {
   "cell_type": "code",
   "execution_count": 19,
   "metadata": {},
   "outputs": [
    {
     "name": "stdout",
     "output_type": "stream",
     "text": [
      "0.0008542537689208984\n"
     ]
    }
   ],
   "source": [
    "#선택 라이브러리 정렬\n",
    "from random import randint\n",
    "import time\n",
    "\n",
    "array = []\n",
    "for _ in range(10000):\n",
    "    array.append(randint(1,100))\n",
    "\n",
    "start = time.time()\n",
    "array.sort()\n",
    "print(time.time()-start)"
   ]
  },
  {
   "cell_type": "code",
   "execution_count": 20,
   "metadata": {},
   "outputs": [
    {
     "name": "stdout",
     "output_type": "stream",
     "text": [
      "0.0009508132934570312\n",
      "25.604126453399658\n"
     ]
    }
   ],
   "source": [
    "from random import randint\n",
    "import time\n",
    "\n",
    "array = []\n",
    "for _ in range(10000):\n",
    "    array.append(randint(1,100))\n",
    "\n",
    "start = time.time()\n",
    "array.sort()\n",
    "print(time.time()-start)\n",
    "\n",
    "for _ in range(10000):\n",
    "    array.append(randint(1,100))\n",
    "\n",
    "start = time.time()\n",
    "for i in range(len(array)):\n",
    "    for j in range(i, 0, -1):\n",
    "        if array[j] < array[j-1]:\n",
    "            array[j], array[j-1] = array[j-1], array[j] # swap\n",
    "        else:\n",
    "            break\n",
    "print(time.time()-start)"
   ]
  },
  {
   "cell_type": "code",
   "execution_count": 24,
   "metadata": {},
   "outputs": [
    {
     "name": "stdout",
     "output_type": "stream",
     "text": [
      "26\n"
     ]
    }
   ],
   "source": [
    "N,K = map(int,input().split())\n",
    "arr_a=list(map(int,input().split()))\n",
    "arr_b=list(map(int,input().split()))\n",
    "\n",
    "if(N!=len(arr_a) or N!=len(arr_b)):\n",
    "    print(\"Error!\")\n",
    "    exit()\n",
    "\n",
    "arr_a.sort()\n",
    "arr_b.sort(reverse=True)\n",
    "\n",
    "for i in range(K):\n",
    "    if arr_a[i]<arr_b[i]:\n",
    "        arr_a[i],arr_b[i]=arr_b[i],arr_a[i]\n",
    "    else:\n",
    "        break\n",
    "    \n",
    "print(sum(arr_a))"
   ]
  },
  {
   "cell_type": "code",
   "execution_count": null,
   "metadata": {},
   "outputs": [],
   "source": []
  }
 ],
 "metadata": {
  "kernelspec": {
   "display_name": "Python 3",
   "language": "python",
   "name": "python3"
  },
  "language_info": {
   "codemirror_mode": {
    "name": "ipython",
    "version": 3
   },
   "file_extension": ".py",
   "mimetype": "text/x-python",
   "name": "python",
   "nbconvert_exporter": "python",
   "pygments_lexer": "ipython3",
   "version": "3.10.12"
  },
  "orig_nbformat": 4
 },
 "nbformat": 4,
 "nbformat_minor": 2
}
